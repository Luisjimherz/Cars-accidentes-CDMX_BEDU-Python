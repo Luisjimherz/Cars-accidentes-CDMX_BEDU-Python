{
 "cells": [
  {
   "cell_type": "markdown",
   "metadata": {},
   "source": [
    "<center>\n",
    "    <img src=\"https://raw.githubusercontent.com/Luisjimherz/Bedu-Python-CarAccidentsMX/main/data/img/logo.png\" width=\"70\" alt=\"cognitiveclass.ai logo\"  />\n",
    "    <h1>Bedu-Python-CarAccidents</h1>\n",
    "    <h2>Análisis de accidentes vehiculares en la CDMX del 2017-2021</h2>\n",
    "    <h3>Bedu - Equipo 14</h3>\n",
    "</center>\n",
    "\n",
    "Tiempo estimado de lectura: **30** minutos\n",
    "\n",
    "## Descripción \n",
    "\n",
    "Éste proyecto analisa los datos del 2016 al 2021 proporcionados por el C4, un sistema de registro Mexicano de incidentes vehiculares. \n"
   ]
  },
  {
   "cell_type": "markdown",
   "metadata": {},
   "source": [
    "# Problema"
   ]
  },
  {
   "cell_type": "markdown",
   "metadata": {},
   "source": [
    "Actualmente, la ocurrencia de accidentes vehiculares es un problema importante que impacta diferentes ámbitos de la sociedad, siendo una problemática tanto de movilidad como de seguridad ciudadana. \n",
    "\n",
    "El análisis de los datos existentes sobre los incidentes vehiculares es un primer paso que podría dar lugar al desarrollo de herramientas que permitan hacer más eficiente su atención e incluso prevenir la ocurrencia de los mismos.\n",
    "\n",
    "Lo anterior implica conocer cuándo, cómo y dónde ocurren los accidentes vehiculares, el impacto que tienen sobre los involucrados, y la manera en que las autoridades competentes responden a ellos."
   ]
  },
  {
   "cell_type": "markdown",
   "metadata": {},
   "source": [
    "# Preguntas"
   ]
  },
  {
   "cell_type": "markdown",
   "metadata": {},
   "source": [
    "Los puntos importantes de conocer para este propósito se enfocan en tres puntos clave:\n",
    "\n",
    "* La distribución de la ocurrencia de incidentes viales en el tiempo, que abre preguntas como:\n",
    "    1. ¿En qué épocas del año hay más accidentes?\n",
    "    2. ¿En qué horarios del día ocurren más accidentes?\n",
    "    3. ¿Hay más accidentes en días festivos, o fines de semana, o vacaciones que en días normales?\n",
    "\n",
    "* La distribución geográfica de la ocurrencia de accidentes\n",
    "    1. ¿En qué lugares ocurren más accidentes¡\n",
    "\n",
    "* La preparación de las autoriades para responder a dichos incidentes\n",
    "    1. ¿Cómo se enteran las autoridades de u incidente vial?\n",
    "    2. ¿Qué proceso se lleva a cabo después de que ocurre un incidente?\n",
    "\n",
    "* La letalidad de los incidentes viales\n",
    "    1. ¿Cuántos incidentes implican la defunción de los involucrados?\n",
    "    2. ¿Qué tipos de accidentes son más comunes?\n",
    "    3. ¿Qué tipo de accidentes son más letales?\n",
    "    \n",
    "* La situación actual de contingencia sanitaria\n",
    "    1. ¿Han cocurrido menos incidentes desde que inició la pandemia?\n",
    "    2. ¿La pandemia ha influido en la letalidad de los accidentes?"
   ]
  },
  {
   "cell_type": "markdown",
   "metadata": {},
   "source": [
    "# Datasets seleccionados"
   ]
  },
  {
   "cell_type": "markdown",
   "metadata": {},
   "source": [
    "Se utilizaron los datasets de reportes de incidentes vehiculares en la ciudad de México de los años 2017, 2018, 2019 y 2021 provistos por el sitio oficial de la Secretaría de seguridad ciudadana y disponibles en https://www.kaggle.com/laloromero/mexico-road-accidents-during-2019 (2017-2019) y en https://datos.cdmx.gob.mx/dataset/incidentes-viales-c5 (2021)"
   ]
  },
  {
   "cell_type": "markdown",
   "metadata": {},
   "source": [
    "# Importación de datos"
   ]
  },
  {
   "cell_type": "code",
   "execution_count": 1,
   "metadata": {},
   "outputs": [],
   "source": [
    "# Librerías utilizadas\n",
    "import pandas as pd, datetime as dt, numpy as np, matplotlib.pyplot as plt"
   ]
  },
  {
   "cell_type": "code",
   "execution_count": 2,
   "metadata": {},
   "outputs": [],
   "source": [
    "plt.style.use('ggplot')"
   ]
  },
  {
   "cell_type": "markdown",
   "metadata": {},
   "source": [
    "Como los datasets tienen un nombre de plantilla, diferenciado únicamente por el año al que pertenecen, se puede automatizar el proceso de lectura y concatenación de datos haciendo uso de un fstring y un ciclo for."
   ]
  },
  {
   "cell_type": "code",
   "execution_count": 4,
   "metadata": {},
   "outputs": [],
   "source": [
    "data = pd.read_csv(\"data/incidentes-viales-c5-2017.csv\")"
   ]
  },
  {
   "cell_type": "code",
   "execution_count": 5,
   "metadata": {},
   "outputs": [],
   "source": [
    "years = [\"2018\", \"2019\", \"2021\"]\n",
    "for y in years:\n",
    "    df = pd.read_csv(f\"data/incidentes-viales-c5-{y}.csv\")\n",
    "    data = pd.concat([data, df], axis=0, ignore_index=True)"
   ]
  },
  {
   "cell_type": "markdown",
   "metadata": {},
   "source": [
    "# Análisis exploratorio"
   ]
  },
  {
   "cell_type": "code",
   "execution_count": 6,
   "metadata": {},
   "outputs": [
    {
     "data": {
      "text/html": [
       "<div>\n",
       "<style scoped>\n",
       "    .dataframe tbody tr th:only-of-type {\n",
       "        vertical-align: middle;\n",
       "    }\n",
       "\n",
       "    .dataframe tbody tr th {\n",
       "        vertical-align: top;\n",
       "    }\n",
       "\n",
       "    .dataframe thead th {\n",
       "        text-align: right;\n",
       "    }\n",
       "</style>\n",
       "<table border=\"1\" class=\"dataframe\">\n",
       "  <thead>\n",
       "    <tr style=\"text-align: right;\">\n",
       "      <th></th>\n",
       "      <th>folio</th>\n",
       "      <th>fecha_creacion</th>\n",
       "      <th>hora_creacion</th>\n",
       "      <th>dia_semana</th>\n",
       "      <th>codigo_cierre</th>\n",
       "      <th>fecha_cierre</th>\n",
       "      <th>año_cierre</th>\n",
       "      <th>mes_cierre</th>\n",
       "      <th>hora_cierre</th>\n",
       "      <th>delegacion_inicio</th>\n",
       "      <th>incidente_c4</th>\n",
       "      <th>latitud</th>\n",
       "      <th>longitud</th>\n",
       "      <th>clas_con_f_alarma</th>\n",
       "      <th>tipo_entrada</th>\n",
       "      <th>delegacion_cierre</th>\n",
       "      <th>geopoint</th>\n",
       "      <th>mes</th>\n",
       "      <th>Unnamed: 0</th>\n",
       "      <th>ano</th>\n",
       "    </tr>\n",
       "  </thead>\n",
       "  <tbody>\n",
       "    <tr>\n",
       "      <th>0</th>\n",
       "      <td>C5/170622/06952</td>\n",
       "      <td>22/06/2017</td>\n",
       "      <td>20:34:45</td>\n",
       "      <td>Jueves</td>\n",
       "      <td>(D) El incidente reportado se registró en dos ...</td>\n",
       "      <td>22/06/2017</td>\n",
       "      <td>2017.0</td>\n",
       "      <td>Junio</td>\n",
       "      <td>20:39:42</td>\n",
       "      <td>MILPA ALTA</td>\n",
       "      <td>accidente-choque sin lesionados</td>\n",
       "      <td>19.20137</td>\n",
       "      <td>-99.00732</td>\n",
       "      <td>EMERGENCIA</td>\n",
       "      <td>LLAMADA DEL 911</td>\n",
       "      <td>MILPA ALTA</td>\n",
       "      <td>19.20137004,-99.00731988</td>\n",
       "      <td>6</td>\n",
       "      <td>NaN</td>\n",
       "      <td>NaN</td>\n",
       "    </tr>\n",
       "    <tr>\n",
       "      <th>1</th>\n",
       "      <td>C5/170622/05115</td>\n",
       "      <td>22/06/2017</td>\n",
       "      <td>16:41:14</td>\n",
       "      <td>Jueves</td>\n",
       "      <td>(D) El incidente reportado se registró en dos ...</td>\n",
       "      <td>22/06/2017</td>\n",
       "      <td>2017.0</td>\n",
       "      <td>Junio</td>\n",
       "      <td>16:46:02</td>\n",
       "      <td>TLAHUAC</td>\n",
       "      <td>accidente-choque sin lesionados</td>\n",
       "      <td>19.29659</td>\n",
       "      <td>-99.03443</td>\n",
       "      <td>EMERGENCIA</td>\n",
       "      <td>LLAMADA DEL 911</td>\n",
       "      <td>TLAHUAC</td>\n",
       "      <td>19.29659004,-99.03443004</td>\n",
       "      <td>6</td>\n",
       "      <td>NaN</td>\n",
       "      <td>NaN</td>\n",
       "    </tr>\n",
       "    <tr>\n",
       "      <th>2</th>\n",
       "      <td>C5/170622/03715</td>\n",
       "      <td>22/06/2017</td>\n",
       "      <td>13:44:52</td>\n",
       "      <td>Jueves</td>\n",
       "      <td>(N) La unidad de atención a emergencias fue de...</td>\n",
       "      <td>22/06/2017</td>\n",
       "      <td>2017.0</td>\n",
       "      <td>Junio</td>\n",
       "      <td>16:48:07</td>\n",
       "      <td>VENUSTIANO CARRANZA</td>\n",
       "      <td>accidente-choque sin lesionados</td>\n",
       "      <td>19.43053</td>\n",
       "      <td>-99.05260</td>\n",
       "      <td>EMERGENCIA</td>\n",
       "      <td>LLAMADA DEL 911</td>\n",
       "      <td>VENUSTIANO CARRANZA</td>\n",
       "      <td>19.43053002,-99.05259996</td>\n",
       "      <td>6</td>\n",
       "      <td>NaN</td>\n",
       "      <td>NaN</td>\n",
       "    </tr>\n",
       "    <tr>\n",
       "      <th>3</th>\n",
       "      <td>C5/170622/05317</td>\n",
       "      <td>22/06/2017</td>\n",
       "      <td>17:08:58</td>\n",
       "      <td>Jueves</td>\n",
       "      <td>(D) El incidente reportado se registró en dos ...</td>\n",
       "      <td>22/06/2017</td>\n",
       "      <td>2017.0</td>\n",
       "      <td>Junio</td>\n",
       "      <td>17:20:34</td>\n",
       "      <td>IZTAPALAPA</td>\n",
       "      <td>accidente-choque con lesionados</td>\n",
       "      <td>19.36189</td>\n",
       "      <td>-99.12243</td>\n",
       "      <td>URGENCIAS MEDICAS</td>\n",
       "      <td>LLAMADA DEL 911</td>\n",
       "      <td>IZTAPALAPA</td>\n",
       "      <td>19.36188999,-99.12242988</td>\n",
       "      <td>6</td>\n",
       "      <td>NaN</td>\n",
       "      <td>NaN</td>\n",
       "    </tr>\n",
       "    <tr>\n",
       "      <th>4</th>\n",
       "      <td>C5/170622/05348</td>\n",
       "      <td>22/06/2017</td>\n",
       "      <td>17:12:38</td>\n",
       "      <td>Jueves</td>\n",
       "      <td>(D) El incidente reportado se registró en dos ...</td>\n",
       "      <td>22/06/2017</td>\n",
       "      <td>2017.0</td>\n",
       "      <td>Junio</td>\n",
       "      <td>17:25:27</td>\n",
       "      <td>IZTAPALAPA</td>\n",
       "      <td>accidente-choque con lesionados</td>\n",
       "      <td>19.36168</td>\n",
       "      <td>-99.12210</td>\n",
       "      <td>URGENCIAS MEDICAS</td>\n",
       "      <td>LLAMADA DEL 911</td>\n",
       "      <td>IZTAPALAPA</td>\n",
       "      <td>19.36168002,-99.12210012</td>\n",
       "      <td>6</td>\n",
       "      <td>NaN</td>\n",
       "      <td>NaN</td>\n",
       "    </tr>\n",
       "  </tbody>\n",
       "</table>\n",
       "</div>"
      ],
      "text/plain": [
       "             folio fecha_creacion hora_creacion dia_semana  \\\n",
       "0  C5/170622/06952     22/06/2017      20:34:45     Jueves   \n",
       "1  C5/170622/05115     22/06/2017      16:41:14     Jueves   \n",
       "2  C5/170622/03715     22/06/2017      13:44:52     Jueves   \n",
       "3  C5/170622/05317     22/06/2017      17:08:58     Jueves   \n",
       "4  C5/170622/05348     22/06/2017      17:12:38     Jueves   \n",
       "\n",
       "                                       codigo_cierre fecha_cierre  año_cierre  \\\n",
       "0  (D) El incidente reportado se registró en dos ...   22/06/2017      2017.0   \n",
       "1  (D) El incidente reportado se registró en dos ...   22/06/2017      2017.0   \n",
       "2  (N) La unidad de atención a emergencias fue de...   22/06/2017      2017.0   \n",
       "3  (D) El incidente reportado se registró en dos ...   22/06/2017      2017.0   \n",
       "4  (D) El incidente reportado se registró en dos ...   22/06/2017      2017.0   \n",
       "\n",
       "  mes_cierre hora_cierre    delegacion_inicio  \\\n",
       "0      Junio    20:39:42           MILPA ALTA   \n",
       "1      Junio    16:46:02              TLAHUAC   \n",
       "2      Junio    16:48:07  VENUSTIANO CARRANZA   \n",
       "3      Junio    17:20:34           IZTAPALAPA   \n",
       "4      Junio    17:25:27           IZTAPALAPA   \n",
       "\n",
       "                      incidente_c4   latitud  longitud  clas_con_f_alarma  \\\n",
       "0  accidente-choque sin lesionados  19.20137 -99.00732         EMERGENCIA   \n",
       "1  accidente-choque sin lesionados  19.29659 -99.03443         EMERGENCIA   \n",
       "2  accidente-choque sin lesionados  19.43053 -99.05260         EMERGENCIA   \n",
       "3  accidente-choque con lesionados  19.36189 -99.12243  URGENCIAS MEDICAS   \n",
       "4  accidente-choque con lesionados  19.36168 -99.12210  URGENCIAS MEDICAS   \n",
       "\n",
       "      tipo_entrada    delegacion_cierre                  geopoint  mes  \\\n",
       "0  LLAMADA DEL 911           MILPA ALTA  19.20137004,-99.00731988    6   \n",
       "1  LLAMADA DEL 911              TLAHUAC  19.29659004,-99.03443004    6   \n",
       "2  LLAMADA DEL 911  VENUSTIANO CARRANZA  19.43053002,-99.05259996    6   \n",
       "3  LLAMADA DEL 911           IZTAPALAPA  19.36188999,-99.12242988    6   \n",
       "4  LLAMADA DEL 911           IZTAPALAPA  19.36168002,-99.12210012    6   \n",
       "\n",
       "   Unnamed: 0  ano  \n",
       "0         NaN  NaN  \n",
       "1         NaN  NaN  \n",
       "2         NaN  NaN  \n",
       "3         NaN  NaN  \n",
       "4         NaN  NaN  "
      ]
     },
     "execution_count": 6,
     "metadata": {},
     "output_type": "execute_result"
    }
   ],
   "source": [
    "data.head()"
   ]
  },
  {
   "cell_type": "code",
   "execution_count": 7,
   "metadata": {},
   "outputs": [
    {
     "data": {
      "text/html": [
       "<div>\n",
       "<style scoped>\n",
       "    .dataframe tbody tr th:only-of-type {\n",
       "        vertical-align: middle;\n",
       "    }\n",
       "\n",
       "    .dataframe tbody tr th {\n",
       "        vertical-align: top;\n",
       "    }\n",
       "\n",
       "    .dataframe thead th {\n",
       "        text-align: right;\n",
       "    }\n",
       "</style>\n",
       "<table border=\"1\" class=\"dataframe\">\n",
       "  <thead>\n",
       "    <tr style=\"text-align: right;\">\n",
       "      <th></th>\n",
       "      <th>folio</th>\n",
       "      <th>fecha_creacion</th>\n",
       "      <th>hora_creacion</th>\n",
       "      <th>dia_semana</th>\n",
       "      <th>codigo_cierre</th>\n",
       "      <th>fecha_cierre</th>\n",
       "      <th>año_cierre</th>\n",
       "      <th>mes_cierre</th>\n",
       "      <th>hora_cierre</th>\n",
       "      <th>delegacion_inicio</th>\n",
       "      <th>incidente_c4</th>\n",
       "      <th>latitud</th>\n",
       "      <th>longitud</th>\n",
       "      <th>clas_con_f_alarma</th>\n",
       "      <th>tipo_entrada</th>\n",
       "      <th>delegacion_cierre</th>\n",
       "      <th>geopoint</th>\n",
       "      <th>mes</th>\n",
       "      <th>Unnamed: 0</th>\n",
       "      <th>ano</th>\n",
       "    </tr>\n",
       "  </thead>\n",
       "  <tbody>\n",
       "    <tr>\n",
       "      <th>693688</th>\n",
       "      <td>C5/210228/09309</td>\n",
       "      <td>28/02/2021</td>\n",
       "      <td>22:24:48</td>\n",
       "      <td>Domingo</td>\n",
       "      <td>N</td>\n",
       "      <td>28/02/2021</td>\n",
       "      <td>NaN</td>\n",
       "      <td>NaN</td>\n",
       "      <td>23:44:19</td>\n",
       "      <td>IZTAPALAPA</td>\n",
       "      <td>accidente-choque sin lesionados</td>\n",
       "      <td>19.349940</td>\n",
       "      <td>-99.066890</td>\n",
       "      <td>EMERGENCIA</td>\n",
       "      <td>LLAMADA DEL 911</td>\n",
       "      <td>IZTAPALAPA</td>\n",
       "      <td>NaN</td>\n",
       "      <td>2</td>\n",
       "      <td>12943.0</td>\n",
       "      <td>2021.0</td>\n",
       "    </tr>\n",
       "    <tr>\n",
       "      <th>693689</th>\n",
       "      <td>C5/210228/09401</td>\n",
       "      <td>28/02/2021</td>\n",
       "      <td>22:45:49</td>\n",
       "      <td>Domingo</td>\n",
       "      <td>N</td>\n",
       "      <td>28/02/2021</td>\n",
       "      <td>NaN</td>\n",
       "      <td>NaN</td>\n",
       "      <td>22:58:58</td>\n",
       "      <td>GUSTAVO A. MADERO</td>\n",
       "      <td>lesionado-atropellado</td>\n",
       "      <td>19.491660</td>\n",
       "      <td>-99.092150</td>\n",
       "      <td>URGENCIAS MEDICAS</td>\n",
       "      <td>LLAMADA DEL 911</td>\n",
       "      <td>GUSTAVO A. MADERO</td>\n",
       "      <td>NaN</td>\n",
       "      <td>2</td>\n",
       "      <td>12944.0</td>\n",
       "      <td>2021.0</td>\n",
       "    </tr>\n",
       "    <tr>\n",
       "      <th>693690</th>\n",
       "      <td>C5/210228/09405</td>\n",
       "      <td>28/02/2021</td>\n",
       "      <td>22:45:59</td>\n",
       "      <td>Domingo</td>\n",
       "      <td>D</td>\n",
       "      <td>28/02/2021</td>\n",
       "      <td>NaN</td>\n",
       "      <td>NaN</td>\n",
       "      <td>22:49:07</td>\n",
       "      <td>MIGUEL HIDALGO</td>\n",
       "      <td>accidente-choque con lesionados</td>\n",
       "      <td>19.396770</td>\n",
       "      <td>-99.237120</td>\n",
       "      <td>URGENCIAS MEDICAS</td>\n",
       "      <td>LLAMADA DEL 911</td>\n",
       "      <td>MIGUEL HIDALGO</td>\n",
       "      <td>NaN</td>\n",
       "      <td>2</td>\n",
       "      <td>12945.0</td>\n",
       "      <td>2021.0</td>\n",
       "    </tr>\n",
       "    <tr>\n",
       "      <th>693691</th>\n",
       "      <td>C5/210228/09417</td>\n",
       "      <td>28/02/2021</td>\n",
       "      <td>22:48:36</td>\n",
       "      <td>Domingo</td>\n",
       "      <td>A</td>\n",
       "      <td>28/02/2021</td>\n",
       "      <td>NaN</td>\n",
       "      <td>NaN</td>\n",
       "      <td>23:48:19</td>\n",
       "      <td>AZCAPOTZALCO</td>\n",
       "      <td>accidente-choque sin lesionados</td>\n",
       "      <td>19.481660</td>\n",
       "      <td>-99.218560</td>\n",
       "      <td>EMERGENCIA</td>\n",
       "      <td>LLAMADA DEL 911</td>\n",
       "      <td>AZCAPOTZALCO</td>\n",
       "      <td>NaN</td>\n",
       "      <td>2</td>\n",
       "      <td>12946.0</td>\n",
       "      <td>2021.0</td>\n",
       "    </tr>\n",
       "    <tr>\n",
       "      <th>693692</th>\n",
       "      <td>IZ/210228/07916</td>\n",
       "      <td>28/02/2021</td>\n",
       "      <td>19:46:33</td>\n",
       "      <td>Domingo</td>\n",
       "      <td>A</td>\n",
       "      <td>28/02/2021</td>\n",
       "      <td>NaN</td>\n",
       "      <td>NaN</td>\n",
       "      <td>20:17:58</td>\n",
       "      <td>XOCHIMILCO</td>\n",
       "      <td>accidente-choque sin lesionados</td>\n",
       "      <td>19.244195</td>\n",
       "      <td>-99.108017</td>\n",
       "      <td>EMERGENCIA</td>\n",
       "      <td>BOTÓN DE AUXILIO</td>\n",
       "      <td>XOCHIMILCO</td>\n",
       "      <td>NaN</td>\n",
       "      <td>2</td>\n",
       "      <td>12947.0</td>\n",
       "      <td>2021.0</td>\n",
       "    </tr>\n",
       "  </tbody>\n",
       "</table>\n",
       "</div>"
      ],
      "text/plain": [
       "                  folio fecha_creacion hora_creacion dia_semana codigo_cierre  \\\n",
       "693688  C5/210228/09309     28/02/2021      22:24:48    Domingo             N   \n",
       "693689  C5/210228/09401     28/02/2021      22:45:49    Domingo             N   \n",
       "693690  C5/210228/09405     28/02/2021      22:45:59    Domingo             D   \n",
       "693691  C5/210228/09417     28/02/2021      22:48:36    Domingo             A   \n",
       "693692  IZ/210228/07916     28/02/2021      19:46:33    Domingo             A   \n",
       "\n",
       "       fecha_cierre  año_cierre mes_cierre hora_cierre  delegacion_inicio  \\\n",
       "693688   28/02/2021         NaN        NaN    23:44:19         IZTAPALAPA   \n",
       "693689   28/02/2021         NaN        NaN    22:58:58  GUSTAVO A. MADERO   \n",
       "693690   28/02/2021         NaN        NaN    22:49:07     MIGUEL HIDALGO   \n",
       "693691   28/02/2021         NaN        NaN    23:48:19       AZCAPOTZALCO   \n",
       "693692   28/02/2021         NaN        NaN    20:17:58         XOCHIMILCO   \n",
       "\n",
       "                           incidente_c4    latitud   longitud  \\\n",
       "693688  accidente-choque sin lesionados  19.349940 -99.066890   \n",
       "693689            lesionado-atropellado  19.491660 -99.092150   \n",
       "693690  accidente-choque con lesionados  19.396770 -99.237120   \n",
       "693691  accidente-choque sin lesionados  19.481660 -99.218560   \n",
       "693692  accidente-choque sin lesionados  19.244195 -99.108017   \n",
       "\n",
       "        clas_con_f_alarma      tipo_entrada  delegacion_cierre geopoint  mes  \\\n",
       "693688         EMERGENCIA   LLAMADA DEL 911         IZTAPALAPA      NaN    2   \n",
       "693689  URGENCIAS MEDICAS   LLAMADA DEL 911  GUSTAVO A. MADERO      NaN    2   \n",
       "693690  URGENCIAS MEDICAS   LLAMADA DEL 911     MIGUEL HIDALGO      NaN    2   \n",
       "693691         EMERGENCIA   LLAMADA DEL 911       AZCAPOTZALCO      NaN    2   \n",
       "693692         EMERGENCIA  BOTÓN DE AUXILIO         XOCHIMILCO      NaN    2   \n",
       "\n",
       "        Unnamed: 0     ano  \n",
       "693688     12943.0  2021.0  \n",
       "693689     12944.0  2021.0  \n",
       "693690     12945.0  2021.0  \n",
       "693691     12946.0  2021.0  \n",
       "693692     12947.0  2021.0  "
      ]
     },
     "execution_count": 7,
     "metadata": {},
     "output_type": "execute_result"
    }
   ],
   "source": [
    "data.tail()"
   ]
  },
  {
   "cell_type": "markdown",
   "metadata": {},
   "source": [
    "# Limpieza"
   ]
  },
  {
   "cell_type": "markdown",
   "metadata": {},
   "source": [
    "## Conversiones de tipo"
   ]
  },
  {
   "cell_type": "code",
   "execution_count": 8,
   "metadata": {
    "scrolled": true
   },
   "outputs": [
    {
     "data": {
      "text/plain": [
       "folio                 object\n",
       "fecha_creacion        object\n",
       "hora_creacion         object\n",
       "dia_semana            object\n",
       "codigo_cierre         object\n",
       "fecha_cierre          object\n",
       "año_cierre           float64\n",
       "mes_cierre            object\n",
       "hora_cierre           object\n",
       "delegacion_inicio     object\n",
       "incidente_c4          object\n",
       "latitud              float64\n",
       "longitud             float64\n",
       "clas_con_f_alarma     object\n",
       "tipo_entrada          object\n",
       "delegacion_cierre     object\n",
       "geopoint              object\n",
       "mes                    int64\n",
       "Unnamed: 0           float64\n",
       "ano                  float64\n",
       "dtype: object"
      ]
     },
     "execution_count": 8,
     "metadata": {},
     "output_type": "execute_result"
    }
   ],
   "source": [
    "data.dtypes"
   ]
  },
  {
   "cell_type": "markdown",
   "metadata": {},
   "source": [
    "Para su posterior análisis, es necesario convertir los tipos de datos de las siguientes columnas:\n",
    "\n",
    "* Datetime\n",
    "    - Fecha de creacion \n",
    "    - Hora de creación \n",
    "    - Fecha de cierre\n",
    "    - Hora cierre \n",
    "    \n",
    "* Categórico\n",
    "    - codigo de cierre\n",
    "    - Delgación\n",
    "    - inciente_c4\n",
    "    - clas_on_f_alarma \n",
    "    - tipo_etrada \n",
    "    - delegacon_cierre\n",
    "    - mes\n",
    "\n",
    "Además se decide unir las columnas de fecha y hora de creación en un timestamp común. Lo mismo para las columnas de cierre."
   ]
  },
  {
   "cell_type": "code",
   "execution_count": 9,
   "metadata": {},
   "outputs": [],
   "source": [
    "# timestamp de creación\n",
    "data['fecha_hora_creacion'] = data['fecha_creacion']+ \" \" + data['hora_creacion']"
   ]
  },
  {
   "cell_type": "code",
   "execution_count": 10,
   "metadata": {},
   "outputs": [],
   "source": [
    "# timestamp de cierre\n",
    "data['fecha_hora_cierre'] = data['fecha_cierre']+ \" \" + data['hora_cierre']"
   ]
  },
  {
   "cell_type": "markdown",
   "metadata": {},
   "source": [
    "Se borran las columnas de año, fecha y hora de cierre y creación, así como de geopoint."
   ]
  },
  {
   "cell_type": "code",
   "execution_count": 11,
   "metadata": {},
   "outputs": [],
   "source": [
    "data_s1 = data.drop(columns=['año_cierre', \n",
    "                             'mes_cierre',\n",
    "                             'fecha_cierre', \n",
    "                             'fecha_creacion', \n",
    "                             'hora_cierre', \n",
    "                             'hora_creacion', \n",
    "                             'ano',\n",
    "                             \"Unnamed: 0\",\n",
    "                             \"geopoint\"])"
   ]
  },
  {
   "cell_type": "code",
   "execution_count": 12,
   "metadata": {},
   "outputs": [],
   "source": [
    "# Borrar columnas \n",
    "diccionario_de_conversion = {\n",
    "    'codigo_cierre': 'category',\n",
    "    'fecha_hora_creacion': 'datetime64[ns]',\n",
    "    'fecha_hora_cierre': 'datetime64[ns]', \n",
    "    'delegacion_inicio': 'category',\n",
    "    'incidente_c4': 'category', \n",
    "    'clas_con_f_alarma': 'category', \n",
    "    'tipo_entrada': 'category',\n",
    "    'delegacion_cierre':'category',\n",
    "    'mes':'category'\n",
    "}"
   ]
  },
  {
   "cell_type": "code",
   "execution_count": 13,
   "metadata": {
    "scrolled": false
   },
   "outputs": [],
   "source": [
    "data_s1 = data_s1.astype(diccionario_de_conversion)"
   ]
  },
  {
   "cell_type": "code",
   "execution_count": 14,
   "metadata": {},
   "outputs": [
    {
     "data": {
      "text/html": [
       "<div>\n",
       "<style scoped>\n",
       "    .dataframe tbody tr th:only-of-type {\n",
       "        vertical-align: middle;\n",
       "    }\n",
       "\n",
       "    .dataframe tbody tr th {\n",
       "        vertical-align: top;\n",
       "    }\n",
       "\n",
       "    .dataframe thead th {\n",
       "        text-align: right;\n",
       "    }\n",
       "</style>\n",
       "<table border=\"1\" class=\"dataframe\">\n",
       "  <thead>\n",
       "    <tr style=\"text-align: right;\">\n",
       "      <th></th>\n",
       "      <th>latitud</th>\n",
       "      <th>longitud</th>\n",
       "    </tr>\n",
       "  </thead>\n",
       "  <tbody>\n",
       "    <tr>\n",
       "      <th>count</th>\n",
       "      <td>693250.000000</td>\n",
       "      <td>693258.000000</td>\n",
       "    </tr>\n",
       "    <tr>\n",
       "      <th>mean</th>\n",
       "      <td>19.383188</td>\n",
       "      <td>-99.150078</td>\n",
       "    </tr>\n",
       "    <tr>\n",
       "      <th>std</th>\n",
       "      <td>0.370154</td>\n",
       "      <td>3.388433</td>\n",
       "    </tr>\n",
       "    <tr>\n",
       "      <th>min</th>\n",
       "      <td>19.095427</td>\n",
       "      <td>-991.764000</td>\n",
       "    </tr>\n",
       "    <tr>\n",
       "      <th>25%</th>\n",
       "      <td>19.335850</td>\n",
       "      <td>-99.180270</td>\n",
       "    </tr>\n",
       "    <tr>\n",
       "      <th>50%</th>\n",
       "      <td>19.382990</td>\n",
       "      <td>-99.140560</td>\n",
       "    </tr>\n",
       "    <tr>\n",
       "      <th>75%</th>\n",
       "      <td>19.433770</td>\n",
       "      <td>-99.095020</td>\n",
       "    </tr>\n",
       "    <tr>\n",
       "      <th>max</th>\n",
       "      <td>195.303000</td>\n",
       "      <td>-98.945370</td>\n",
       "    </tr>\n",
       "  </tbody>\n",
       "</table>\n",
       "</div>"
      ],
      "text/plain": [
       "             latitud       longitud\n",
       "count  693250.000000  693258.000000\n",
       "mean       19.383188     -99.150078\n",
       "std         0.370154       3.388433\n",
       "min        19.095427    -991.764000\n",
       "25%        19.335850     -99.180270\n",
       "50%        19.382990     -99.140560\n",
       "75%        19.433770     -99.095020\n",
       "max       195.303000     -98.945370"
      ]
     },
     "execution_count": 14,
     "metadata": {},
     "output_type": "execute_result"
    }
   ],
   "source": [
    "data_s1.describe()"
   ]
  },
  {
   "cell_type": "markdown",
   "metadata": {},
   "source": [
    "## Tratamiento de valores nulos"
   ]
  },
  {
   "cell_type": "markdown",
   "metadata": {},
   "source": [
    "Se analizan cuántos datos con valores existen para determinar como manejar dichos valores"
   ]
  },
  {
   "cell_type": "code",
   "execution_count": 15,
   "metadata": {},
   "outputs": [
    {
     "name": "stdout",
     "output_type": "stream",
     "text": [
      "(693693, 13)\n"
     ]
    },
    {
     "data": {
      "text/plain": [
       "folio                    0\n",
       "dia_semana               0\n",
       "codigo_cierre            0\n",
       "delegacion_inicio       59\n",
       "incidente_c4             0\n",
       "latitud                443\n",
       "longitud               435\n",
       "clas_con_f_alarma        0\n",
       "tipo_entrada             0\n",
       "delegacion_cierre       41\n",
       "mes                      0\n",
       "fecha_hora_creacion      0\n",
       "fecha_hora_cierre        2\n",
       "dtype: int64"
      ]
     },
     "execution_count": 15,
     "metadata": {},
     "output_type": "execute_result"
    }
   ],
   "source": [
    "print(data_s1.shape)\n",
    "data_s1.isnull().sum()"
   ]
  },
  {
   "cell_type": "markdown",
   "metadata": {},
   "source": [
    "Como los datos nulos en el dataset son muy pocos en comparación a la cantidad total de registros entonces se eliminan."
   ]
  },
  {
   "cell_type": "code",
   "execution_count": 16,
   "metadata": {},
   "outputs": [],
   "source": [
    "data_s1.dropna(inplace = True)"
   ]
  },
  {
   "cell_type": "markdown",
   "metadata": {},
   "source": [
    "## Valores duplicados"
   ]
  },
  {
   "cell_type": "markdown",
   "metadata": {},
   "source": [
    "De acuerdo con la documentación del dataset, la columna \"codigo_cierre\" contiene claves que indican la forma de proceder de la SSC en cada reporte, siendo dichas claves las siguientes:\n",
    "\n",
    "* A = “Afirmativo”: Una unidad de atención a emergencias fue despachada, llegó al lugar de los hechos y confirmó la emergencia reportada\n",
    "\n",
    "* N = “Negativo”: Una unidad de atención a emergencias fue despachada, llegó al lugar de los hechos, pero en el sitio del evento nadie confirmo la emergencia ni fue solicitado el apoyo de la unidad\n",
    "\n",
    "* I = “Informativo”: Corresponde a solicitudes de información\n",
    "\n",
    "* F = “Falso”: El incidente reportado inicialmente fue considerado como falso en el lugar de los hechos.\n",
    "\n",
    "* D = “Duplicados”: El incidente reportado se registró en dos o más ocasiones procediendo a mantener un solo reporte como el original.\n",
    "\n",
    "Por lo que para trabajar únicamente con un reporte de incidente es necesario eliminar los datos cuyo \"codigo_cierre\" sea D."
   ]
  },
  {
   "cell_type": "code",
   "execution_count": 17,
   "metadata": {
    "scrolled": false
   },
   "outputs": [
    {
     "data": {
      "text/plain": [
       "[(D) El incidente reportado se registró en dos ..., (N) La unidad de atención a emergencias fue de..., (A) La unidad de atención a emergencias fue de..., (F) El operador/a o despachador/a identifican,..., (I) El incidente reportado es afirmativo y se ..., D, A, N, F, I]\n",
       "Categories (10, object): [(D) El incidente reportado se registró en dos ..., (N) La unidad de atención a emergencias fue de..., (A) La unidad de atención a emergencias fue de..., (F) El operador/a o despachador/a identifican,..., ..., A, N, F, I]"
      ]
     },
     "execution_count": 17,
     "metadata": {},
     "output_type": "execute_result"
    }
   ],
   "source": [
    "data_s1[\"codigo_cierre\"].unique()"
   ]
  },
  {
   "cell_type": "code",
   "execution_count": 18,
   "metadata": {},
   "outputs": [
    {
     "data": {
      "text/html": [
       "<div>\n",
       "<style scoped>\n",
       "    .dataframe tbody tr th:only-of-type {\n",
       "        vertical-align: middle;\n",
       "    }\n",
       "\n",
       "    .dataframe tbody tr th {\n",
       "        vertical-align: top;\n",
       "    }\n",
       "\n",
       "    .dataframe thead th {\n",
       "        text-align: right;\n",
       "    }\n",
       "</style>\n",
       "<table border=\"1\" class=\"dataframe\">\n",
       "  <thead>\n",
       "    <tr style=\"text-align: right;\">\n",
       "      <th></th>\n",
       "      <th>folio</th>\n",
       "      <th>dia_semana</th>\n",
       "      <th>codigo_cierre</th>\n",
       "      <th>delegacion_inicio</th>\n",
       "      <th>incidente_c4</th>\n",
       "      <th>latitud</th>\n",
       "      <th>longitud</th>\n",
       "      <th>clas_con_f_alarma</th>\n",
       "      <th>tipo_entrada</th>\n",
       "      <th>delegacion_cierre</th>\n",
       "      <th>mes</th>\n",
       "      <th>fecha_hora_creacion</th>\n",
       "      <th>fecha_hora_cierre</th>\n",
       "    </tr>\n",
       "  </thead>\n",
       "  <tbody>\n",
       "    <tr>\n",
       "      <th>2</th>\n",
       "      <td>C5/170622/03715</td>\n",
       "      <td>Jueves</td>\n",
       "      <td>(N) La unidad de atención a emergencias fue de...</td>\n",
       "      <td>VENUSTIANO CARRANZA</td>\n",
       "      <td>accidente-choque sin lesionados</td>\n",
       "      <td>19.43053</td>\n",
       "      <td>-99.05260</td>\n",
       "      <td>EMERGENCIA</td>\n",
       "      <td>LLAMADA DEL 911</td>\n",
       "      <td>VENUSTIANO CARRANZA</td>\n",
       "      <td>6</td>\n",
       "      <td>2017-06-22 13:44:52</td>\n",
       "      <td>2017-06-22 16:48:07</td>\n",
       "    </tr>\n",
       "    <tr>\n",
       "      <th>5</th>\n",
       "      <td>C5/170621/07339</td>\n",
       "      <td>Miércoles</td>\n",
       "      <td>(A) La unidad de atención a emergencias fue de...</td>\n",
       "      <td>IZTAPALAPA</td>\n",
       "      <td>accidente-choque sin lesionados</td>\n",
       "      <td>19.38676</td>\n",
       "      <td>-99.03350</td>\n",
       "      <td>EMERGENCIA</td>\n",
       "      <td>LLAMADA DEL 911</td>\n",
       "      <td>IZTAPALAPA</td>\n",
       "      <td>6</td>\n",
       "      <td>2017-06-21 23:29:01</td>\n",
       "      <td>2017-06-22 03:53:51</td>\n",
       "    </tr>\n",
       "    <tr>\n",
       "      <th>8</th>\n",
       "      <td>C5/170622/01694</td>\n",
       "      <td>Jueves</td>\n",
       "      <td>(N) La unidad de atención a emergencias fue de...</td>\n",
       "      <td>IZTAPALAPA</td>\n",
       "      <td>accidente-choque sin lesionados</td>\n",
       "      <td>19.35017</td>\n",
       "      <td>-99.07324</td>\n",
       "      <td>EMERGENCIA</td>\n",
       "      <td>LLAMADA DEL 911</td>\n",
       "      <td>IZTAPALAPA</td>\n",
       "      <td>6</td>\n",
       "      <td>2017-06-22 08:51:30</td>\n",
       "      <td>2017-06-22 10:47:19</td>\n",
       "    </tr>\n",
       "    <tr>\n",
       "      <th>9</th>\n",
       "      <td>C5/170622/03779</td>\n",
       "      <td>Jueves</td>\n",
       "      <td>(N) La unidad de atención a emergencias fue de...</td>\n",
       "      <td>CUAJIMALPA</td>\n",
       "      <td>accidente-choque sin lesionados</td>\n",
       "      <td>19.37273</td>\n",
       "      <td>-99.27753</td>\n",
       "      <td>EMERGENCIA</td>\n",
       "      <td>LLAMADA DEL 911</td>\n",
       "      <td>CUAJIMALPA</td>\n",
       "      <td>6</td>\n",
       "      <td>2017-06-22 13:49:44</td>\n",
       "      <td>2017-06-22 14:17:46</td>\n",
       "    </tr>\n",
       "    <tr>\n",
       "      <th>12</th>\n",
       "      <td>C5/170622/04693</td>\n",
       "      <td>Jueves</td>\n",
       "      <td>(N) La unidad de atención a emergencias fue de...</td>\n",
       "      <td>MIGUEL HIDALGO</td>\n",
       "      <td>accidente-choque sin lesionados</td>\n",
       "      <td>19.45316</td>\n",
       "      <td>-99.19868</td>\n",
       "      <td>EMERGENCIA</td>\n",
       "      <td>LLAMADA DEL 911</td>\n",
       "      <td>MIGUEL HIDALGO</td>\n",
       "      <td>6</td>\n",
       "      <td>2017-06-22 15:48:39</td>\n",
       "      <td>2017-06-22 16:47:41</td>\n",
       "    </tr>\n",
       "  </tbody>\n",
       "</table>\n",
       "</div>"
      ],
      "text/plain": [
       "              folio dia_semana  \\\n",
       "2   C5/170622/03715     Jueves   \n",
       "5   C5/170621/07339  Miércoles   \n",
       "8   C5/170622/01694     Jueves   \n",
       "9   C5/170622/03779     Jueves   \n",
       "12  C5/170622/04693     Jueves   \n",
       "\n",
       "                                        codigo_cierre    delegacion_inicio  \\\n",
       "2   (N) La unidad de atención a emergencias fue de...  VENUSTIANO CARRANZA   \n",
       "5   (A) La unidad de atención a emergencias fue de...           IZTAPALAPA   \n",
       "8   (N) La unidad de atención a emergencias fue de...           IZTAPALAPA   \n",
       "9   (N) La unidad de atención a emergencias fue de...           CUAJIMALPA   \n",
       "12  (N) La unidad de atención a emergencias fue de...       MIGUEL HIDALGO   \n",
       "\n",
       "                       incidente_c4   latitud  longitud clas_con_f_alarma  \\\n",
       "2   accidente-choque sin lesionados  19.43053 -99.05260        EMERGENCIA   \n",
       "5   accidente-choque sin lesionados  19.38676 -99.03350        EMERGENCIA   \n",
       "8   accidente-choque sin lesionados  19.35017 -99.07324        EMERGENCIA   \n",
       "9   accidente-choque sin lesionados  19.37273 -99.27753        EMERGENCIA   \n",
       "12  accidente-choque sin lesionados  19.45316 -99.19868        EMERGENCIA   \n",
       "\n",
       "       tipo_entrada    delegacion_cierre mes fecha_hora_creacion  \\\n",
       "2   LLAMADA DEL 911  VENUSTIANO CARRANZA   6 2017-06-22 13:44:52   \n",
       "5   LLAMADA DEL 911           IZTAPALAPA   6 2017-06-21 23:29:01   \n",
       "8   LLAMADA DEL 911           IZTAPALAPA   6 2017-06-22 08:51:30   \n",
       "9   LLAMADA DEL 911           CUAJIMALPA   6 2017-06-22 13:49:44   \n",
       "12  LLAMADA DEL 911       MIGUEL HIDALGO   6 2017-06-22 15:48:39   \n",
       "\n",
       "     fecha_hora_cierre  \n",
       "2  2017-06-22 16:48:07  \n",
       "5  2017-06-22 03:53:51  \n",
       "8  2017-06-22 10:47:19  \n",
       "9  2017-06-22 14:17:46  \n",
       "12 2017-06-22 16:47:41  "
      ]
     },
     "execution_count": 18,
     "metadata": {},
     "output_type": "execute_result"
    }
   ],
   "source": [
    "# Filtrando los valores de codigo_cierre que no son etiqueta D\n",
    "data_clean = data_s1[~data_s1['codigo_cierre'].str.contains(\"D\", regex=True)]   \n",
    "data_clean.head()"
   ]
  },
  {
   "cell_type": "markdown",
   "metadata": {},
   "source": [
    "## Datos inconsistentes"
   ]
  },
  {
   "cell_type": "markdown",
   "metadata": {},
   "source": [
    "Dentro de los registros del 2017 se encuentran algunos incidentes del 2016. Lo mismo ocurre con los registros del 2021 que incluyen algunos incidenes reportados en el 2020. Sin embargo no se cuentan con datasets extensos para dichos años, por lo que no son significativos para el análisis.\n",
    "\n",
    "En consecuencia, borramos los registros de reportes levantados en 2016 y 2020."
   ]
  },
  {
   "cell_type": "code",
   "execution_count": 19,
   "metadata": {},
   "outputs": [
    {
     "data": {
      "text/plain": [
       "(18, 13)"
      ]
     },
     "execution_count": 19,
     "metadata": {},
     "output_type": "execute_result"
    }
   ],
   "source": [
    "# Existen únicamente 18 registros del 2020\n",
    "data_clean[data_clean[\"fecha_hora_creacion\"].dt.year==2016].shape"
   ]
  },
  {
   "cell_type": "code",
   "execution_count": 20,
   "metadata": {
    "scrolled": true
   },
   "outputs": [
    {
     "data": {
      "text/plain": [
       "(3, 13)"
      ]
     },
     "execution_count": 20,
     "metadata": {},
     "output_type": "execute_result"
    }
   ],
   "source": [
    "# Existen únicamente 3 registros del 2020\n",
    "data_clean[data_clean[\"fecha_hora_creacion\"].dt.year==2020].shape"
   ]
  },
  {
   "cell_type": "code",
   "execution_count": 21,
   "metadata": {},
   "outputs": [],
   "source": [
    "inconsistentes = (data_clean[\"fecha_hora_creacion\"].dt.year!=2020) & (data_clean[\"fecha_hora_creacion\"].dt.year!=2016)\n",
    "data_clean = data_clean[inconsistentes]"
   ]
  },
  {
   "cell_type": "markdown",
   "metadata": {},
   "source": [
    "Además, se encontró que los timestamps de creación y cierre no tenían el formato estándar para el casting a datetime. Por lo que se corrigieron los timestamps haciendo uso de la librería datetime."
   ]
  },
  {
   "cell_type": "markdown",
   "metadata": {},
   "source": [
    "De esta manera se concluye el proceso de limpieza de datos para obtener un dataset de trabajo consistente."
   ]
  },
  {
   "cell_type": "code",
   "execution_count": 22,
   "metadata": {
    "scrolled": true
   },
   "outputs": [
    {
     "data": {
      "text/html": [
       "<div>\n",
       "<style scoped>\n",
       "    .dataframe tbody tr th:only-of-type {\n",
       "        vertical-align: middle;\n",
       "    }\n",
       "\n",
       "    .dataframe tbody tr th {\n",
       "        vertical-align: top;\n",
       "    }\n",
       "\n",
       "    .dataframe thead th {\n",
       "        text-align: right;\n",
       "    }\n",
       "</style>\n",
       "<table border=\"1\" class=\"dataframe\">\n",
       "  <thead>\n",
       "    <tr style=\"text-align: right;\">\n",
       "      <th></th>\n",
       "      <th>index</th>\n",
       "      <th>folio</th>\n",
       "      <th>dia_semana</th>\n",
       "      <th>codigo_cierre</th>\n",
       "      <th>delegacion_inicio</th>\n",
       "      <th>incidente_c4</th>\n",
       "      <th>latitud</th>\n",
       "      <th>longitud</th>\n",
       "      <th>clas_con_f_alarma</th>\n",
       "      <th>tipo_entrada</th>\n",
       "      <th>delegacion_cierre</th>\n",
       "      <th>mes</th>\n",
       "      <th>fecha_hora_creacion</th>\n",
       "      <th>fecha_hora_cierre</th>\n",
       "    </tr>\n",
       "  </thead>\n",
       "  <tbody>\n",
       "    <tr>\n",
       "      <th>0</th>\n",
       "      <td>2</td>\n",
       "      <td>C5/170622/03715</td>\n",
       "      <td>Jueves</td>\n",
       "      <td>(N) La unidad de atención a emergencias fue de...</td>\n",
       "      <td>VENUSTIANO CARRANZA</td>\n",
       "      <td>accidente-choque sin lesionados</td>\n",
       "      <td>19.430530</td>\n",
       "      <td>-99.052600</td>\n",
       "      <td>EMERGENCIA</td>\n",
       "      <td>LLAMADA DEL 911</td>\n",
       "      <td>VENUSTIANO CARRANZA</td>\n",
       "      <td>6</td>\n",
       "      <td>2017-06-22 13:44:52</td>\n",
       "      <td>2017-06-22 16:48:07</td>\n",
       "    </tr>\n",
       "    <tr>\n",
       "      <th>1</th>\n",
       "      <td>5</td>\n",
       "      <td>C5/170621/07339</td>\n",
       "      <td>Miércoles</td>\n",
       "      <td>(A) La unidad de atención a emergencias fue de...</td>\n",
       "      <td>IZTAPALAPA</td>\n",
       "      <td>accidente-choque sin lesionados</td>\n",
       "      <td>19.386760</td>\n",
       "      <td>-99.033500</td>\n",
       "      <td>EMERGENCIA</td>\n",
       "      <td>LLAMADA DEL 911</td>\n",
       "      <td>IZTAPALAPA</td>\n",
       "      <td>6</td>\n",
       "      <td>2017-06-21 23:29:01</td>\n",
       "      <td>2017-06-22 03:53:51</td>\n",
       "    </tr>\n",
       "    <tr>\n",
       "      <th>2</th>\n",
       "      <td>8</td>\n",
       "      <td>C5/170622/01694</td>\n",
       "      <td>Jueves</td>\n",
       "      <td>(N) La unidad de atención a emergencias fue de...</td>\n",
       "      <td>IZTAPALAPA</td>\n",
       "      <td>accidente-choque sin lesionados</td>\n",
       "      <td>19.350170</td>\n",
       "      <td>-99.073240</td>\n",
       "      <td>EMERGENCIA</td>\n",
       "      <td>LLAMADA DEL 911</td>\n",
       "      <td>IZTAPALAPA</td>\n",
       "      <td>6</td>\n",
       "      <td>2017-06-22 08:51:30</td>\n",
       "      <td>2017-06-22 10:47:19</td>\n",
       "    </tr>\n",
       "    <tr>\n",
       "      <th>3</th>\n",
       "      <td>9</td>\n",
       "      <td>C5/170622/03779</td>\n",
       "      <td>Jueves</td>\n",
       "      <td>(N) La unidad de atención a emergencias fue de...</td>\n",
       "      <td>CUAJIMALPA</td>\n",
       "      <td>accidente-choque sin lesionados</td>\n",
       "      <td>19.372730</td>\n",
       "      <td>-99.277530</td>\n",
       "      <td>EMERGENCIA</td>\n",
       "      <td>LLAMADA DEL 911</td>\n",
       "      <td>CUAJIMALPA</td>\n",
       "      <td>6</td>\n",
       "      <td>2017-06-22 13:49:44</td>\n",
       "      <td>2017-06-22 14:17:46</td>\n",
       "    </tr>\n",
       "    <tr>\n",
       "      <th>4</th>\n",
       "      <td>12</td>\n",
       "      <td>C5/170622/04693</td>\n",
       "      <td>Jueves</td>\n",
       "      <td>(N) La unidad de atención a emergencias fue de...</td>\n",
       "      <td>MIGUEL HIDALGO</td>\n",
       "      <td>accidente-choque sin lesionados</td>\n",
       "      <td>19.453160</td>\n",
       "      <td>-99.198680</td>\n",
       "      <td>EMERGENCIA</td>\n",
       "      <td>LLAMADA DEL 911</td>\n",
       "      <td>MIGUEL HIDALGO</td>\n",
       "      <td>6</td>\n",
       "      <td>2017-06-22 15:48:39</td>\n",
       "      <td>2017-06-22 16:47:41</td>\n",
       "    </tr>\n",
       "    <tr>\n",
       "      <th>5</th>\n",
       "      <td>14</td>\n",
       "      <td>C5/170622/03959</td>\n",
       "      <td>Jueves</td>\n",
       "      <td>(A) La unidad de atención a emergencias fue de...</td>\n",
       "      <td>ALVARO OBREGON</td>\n",
       "      <td>accidente-choque sin lesionados</td>\n",
       "      <td>19.316550</td>\n",
       "      <td>-99.220900</td>\n",
       "      <td>EMERGENCIA</td>\n",
       "      <td>LLAMADA DEL 911</td>\n",
       "      <td>ALVARO OBREGON</td>\n",
       "      <td>6</td>\n",
       "      <td>2017-06-22 14:14:50</td>\n",
       "      <td>2017-06-22 18:05:37</td>\n",
       "    </tr>\n",
       "    <tr>\n",
       "      <th>6</th>\n",
       "      <td>15</td>\n",
       "      <td>C5/170621/06698</td>\n",
       "      <td>Miércoles</td>\n",
       "      <td>(A) La unidad de atención a emergencias fue de...</td>\n",
       "      <td>ALVARO OBREGON</td>\n",
       "      <td>accidente-choque sin lesionados</td>\n",
       "      <td>19.397480</td>\n",
       "      <td>-99.190120</td>\n",
       "      <td>EMERGENCIA</td>\n",
       "      <td>LLAMADA DEL 911</td>\n",
       "      <td>ALVARO OBREGON</td>\n",
       "      <td>6</td>\n",
       "      <td>2017-06-21 21:36:02</td>\n",
       "      <td>2017-06-22 00:14:49</td>\n",
       "    </tr>\n",
       "    <tr>\n",
       "      <th>7</th>\n",
       "      <td>17</td>\n",
       "      <td>C5/170621/06943</td>\n",
       "      <td>Miércoles</td>\n",
       "      <td>(A) La unidad de atención a emergencias fue de...</td>\n",
       "      <td>GUSTAVO A. MADERO</td>\n",
       "      <td>accidente-choque con lesionados</td>\n",
       "      <td>19.479010</td>\n",
       "      <td>-99.097550</td>\n",
       "      <td>URGENCIAS MEDICAS</td>\n",
       "      <td>LLAMADA DEL 911</td>\n",
       "      <td>GUSTAVO A. MADERO</td>\n",
       "      <td>6</td>\n",
       "      <td>2017-06-21 22:15:26</td>\n",
       "      <td>2017-06-22 01:57:31</td>\n",
       "    </tr>\n",
       "    <tr>\n",
       "      <th>8</th>\n",
       "      <td>19</td>\n",
       "      <td>C5/170622/05066</td>\n",
       "      <td>Jueves</td>\n",
       "      <td>(A) La unidad de atención a emergencias fue de...</td>\n",
       "      <td>IZTACALCO</td>\n",
       "      <td>accidente-choque sin lesionados</td>\n",
       "      <td>19.392350</td>\n",
       "      <td>-99.098670</td>\n",
       "      <td>EMERGENCIA</td>\n",
       "      <td>LLAMADA DEL 911</td>\n",
       "      <td>IZTACALCO</td>\n",
       "      <td>6</td>\n",
       "      <td>2017-06-22 16:34:47</td>\n",
       "      <td>2017-06-22 18:37:53</td>\n",
       "    </tr>\n",
       "    <tr>\n",
       "      <th>9</th>\n",
       "      <td>21</td>\n",
       "      <td>C5/170622/02873</td>\n",
       "      <td>Jueves</td>\n",
       "      <td>(N) La unidad de atención a emergencias fue de...</td>\n",
       "      <td>ALVARO OBREGON</td>\n",
       "      <td>accidente-choque sin lesionados</td>\n",
       "      <td>19.403120</td>\n",
       "      <td>-99.196730</td>\n",
       "      <td>EMERGENCIA</td>\n",
       "      <td>LLAMADA DEL 911</td>\n",
       "      <td>ALVARO OBREGON</td>\n",
       "      <td>6</td>\n",
       "      <td>2017-06-22 11:54:17</td>\n",
       "      <td>2017-06-22 12:04:51</td>\n",
       "    </tr>\n",
       "    <tr>\n",
       "      <th>10</th>\n",
       "      <td>24</td>\n",
       "      <td>C5/170622/06772</td>\n",
       "      <td>Jueves</td>\n",
       "      <td>(N) La unidad de atención a emergencias fue de...</td>\n",
       "      <td>IZTAPALAPA</td>\n",
       "      <td>lesionado-atropellado</td>\n",
       "      <td>19.337420</td>\n",
       "      <td>-99.019020</td>\n",
       "      <td>URGENCIAS MEDICAS</td>\n",
       "      <td>LLAMADA DEL 911</td>\n",
       "      <td>IZTAPALAPA</td>\n",
       "      <td>6</td>\n",
       "      <td>2017-06-22 20:08:21</td>\n",
       "      <td>2017-06-22 20:20:23</td>\n",
       "    </tr>\n",
       "    <tr>\n",
       "      <th>11</th>\n",
       "      <td>25</td>\n",
       "      <td>C5/170622/03872</td>\n",
       "      <td>Jueves</td>\n",
       "      <td>(A) La unidad de atención a emergencias fue de...</td>\n",
       "      <td>BENITO JUAREZ</td>\n",
       "      <td>accidente-choque sin lesionados</td>\n",
       "      <td>19.371450</td>\n",
       "      <td>-99.178880</td>\n",
       "      <td>EMERGENCIA</td>\n",
       "      <td>LLAMADA DEL 911</td>\n",
       "      <td>BENITO JUAREZ</td>\n",
       "      <td>6</td>\n",
       "      <td>2017-06-22 14:04:26</td>\n",
       "      <td>2017-06-22 15:49:39</td>\n",
       "    </tr>\n",
       "    <tr>\n",
       "      <th>12</th>\n",
       "      <td>26</td>\n",
       "      <td>C5/170622/02319</td>\n",
       "      <td>Jueves</td>\n",
       "      <td>(A) La unidad de atención a emergencias fue de...</td>\n",
       "      <td>IZTAPALAPA</td>\n",
       "      <td>accidente-motociclista</td>\n",
       "      <td>19.306810</td>\n",
       "      <td>-99.081940</td>\n",
       "      <td>URGENCIAS MEDICAS</td>\n",
       "      <td>RADIO</td>\n",
       "      <td>IZTAPALAPA</td>\n",
       "      <td>6</td>\n",
       "      <td>2017-06-22 10:33:02</td>\n",
       "      <td>2017-06-22 11:59:14</td>\n",
       "    </tr>\n",
       "    <tr>\n",
       "      <th>13</th>\n",
       "      <td>27</td>\n",
       "      <td>C5/170622/05382</td>\n",
       "      <td>Jueves</td>\n",
       "      <td>(A) La unidad de atención a emergencias fue de...</td>\n",
       "      <td>IZTAPALAPA</td>\n",
       "      <td>accidente-choque sin lesionados</td>\n",
       "      <td>19.350450</td>\n",
       "      <td>-99.046440</td>\n",
       "      <td>EMERGENCIA</td>\n",
       "      <td>LLAMADA DEL 911</td>\n",
       "      <td>IZTAPALAPA</td>\n",
       "      <td>6</td>\n",
       "      <td>2017-06-22 17:14:47</td>\n",
       "      <td>2017-06-22 21:35:44</td>\n",
       "    </tr>\n",
       "    <tr>\n",
       "      <th>14</th>\n",
       "      <td>29</td>\n",
       "      <td>C5/170622/04974</td>\n",
       "      <td>Jueves</td>\n",
       "      <td>(N) La unidad de atención a emergencias fue de...</td>\n",
       "      <td>CUAJIMALPA</td>\n",
       "      <td>accidente-choque sin lesionados</td>\n",
       "      <td>19.380330</td>\n",
       "      <td>-99.259450</td>\n",
       "      <td>EMERGENCIA</td>\n",
       "      <td>LLAMADA DEL 911</td>\n",
       "      <td>CUAJIMALPA</td>\n",
       "      <td>6</td>\n",
       "      <td>2017-06-22 16:24:03</td>\n",
       "      <td>2017-06-22 16:48:00</td>\n",
       "    </tr>\n",
       "    <tr>\n",
       "      <th>15</th>\n",
       "      <td>30</td>\n",
       "      <td>C5/170622/04521</td>\n",
       "      <td>Jueves</td>\n",
       "      <td>(N) La unidad de atención a emergencias fue de...</td>\n",
       "      <td>GUSTAVO A. MADERO</td>\n",
       "      <td>accidente-choque sin lesionados</td>\n",
       "      <td>19.492220</td>\n",
       "      <td>-99.085470</td>\n",
       "      <td>EMERGENCIA</td>\n",
       "      <td>LLAMADA DEL 911</td>\n",
       "      <td>GUSTAVO A. MADERO</td>\n",
       "      <td>6</td>\n",
       "      <td>2017-06-22 15:31:27</td>\n",
       "      <td>2017-06-22 18:19:41</td>\n",
       "    </tr>\n",
       "    <tr>\n",
       "      <th>16</th>\n",
       "      <td>35</td>\n",
       "      <td>C5/170622/00003</td>\n",
       "      <td>Miércoles</td>\n",
       "      <td>(A) La unidad de atención a emergencias fue de...</td>\n",
       "      <td>COYOACAN</td>\n",
       "      <td>accidente-choque sin lesionados</td>\n",
       "      <td>19.334470</td>\n",
       "      <td>-99.123760</td>\n",
       "      <td>EMERGENCIA</td>\n",
       "      <td>LLAMADA DEL 911</td>\n",
       "      <td>COYOACAN</td>\n",
       "      <td>6</td>\n",
       "      <td>2017-06-21 23:59:19</td>\n",
       "      <td>2017-06-22 01:29:56</td>\n",
       "    </tr>\n",
       "    <tr>\n",
       "      <th>17</th>\n",
       "      <td>36</td>\n",
       "      <td>BJ/170622/00147</td>\n",
       "      <td>Jueves</td>\n",
       "      <td>(A) La unidad de atención a emergencias fue de...</td>\n",
       "      <td>BENITO JUAREZ</td>\n",
       "      <td>accidente-choque sin lesionados</td>\n",
       "      <td>19.366314</td>\n",
       "      <td>-99.178748</td>\n",
       "      <td>EMERGENCIA</td>\n",
       "      <td>BOTÓN DE AUXILIO</td>\n",
       "      <td>BENITO JUAREZ</td>\n",
       "      <td>6</td>\n",
       "      <td>2017-06-22 00:30:55</td>\n",
       "      <td>2017-06-22 00:35:40</td>\n",
       "    </tr>\n",
       "    <tr>\n",
       "      <th>18</th>\n",
       "      <td>37</td>\n",
       "      <td>C5/170622/07205</td>\n",
       "      <td>Jueves</td>\n",
       "      <td>(N) La unidad de atención a emergencias fue de...</td>\n",
       "      <td>TLALPAN</td>\n",
       "      <td>accidente-choque sin lesionados</td>\n",
       "      <td>19.293500</td>\n",
       "      <td>-99.220800</td>\n",
       "      <td>EMERGENCIA</td>\n",
       "      <td>LLAMADA DEL 911</td>\n",
       "      <td>TLALPAN</td>\n",
       "      <td>6</td>\n",
       "      <td>2017-06-22 21:10:02</td>\n",
       "      <td>2017-06-22 21:17:25</td>\n",
       "    </tr>\n",
       "    <tr>\n",
       "      <th>19</th>\n",
       "      <td>38</td>\n",
       "      <td>C5/170622/04173</td>\n",
       "      <td>Jueves</td>\n",
       "      <td>(A) La unidad de atención a emergencias fue de...</td>\n",
       "      <td>COYOACAN</td>\n",
       "      <td>accidente-choque con lesionados</td>\n",
       "      <td>19.322280</td>\n",
       "      <td>-99.105420</td>\n",
       "      <td>URGENCIAS MEDICAS</td>\n",
       "      <td>LLAMADA DEL 911</td>\n",
       "      <td>COYOACAN</td>\n",
       "      <td>6</td>\n",
       "      <td>2017-06-22 14:46:11</td>\n",
       "      <td>2017-06-22 17:15:21</td>\n",
       "    </tr>\n",
       "  </tbody>\n",
       "</table>\n",
       "</div>"
      ],
      "text/plain": [
       "    index            folio dia_semana  \\\n",
       "0       2  C5/170622/03715     Jueves   \n",
       "1       5  C5/170621/07339  Miércoles   \n",
       "2       8  C5/170622/01694     Jueves   \n",
       "3       9  C5/170622/03779     Jueves   \n",
       "4      12  C5/170622/04693     Jueves   \n",
       "5      14  C5/170622/03959     Jueves   \n",
       "6      15  C5/170621/06698  Miércoles   \n",
       "7      17  C5/170621/06943  Miércoles   \n",
       "8      19  C5/170622/05066     Jueves   \n",
       "9      21  C5/170622/02873     Jueves   \n",
       "10     24  C5/170622/06772     Jueves   \n",
       "11     25  C5/170622/03872     Jueves   \n",
       "12     26  C5/170622/02319     Jueves   \n",
       "13     27  C5/170622/05382     Jueves   \n",
       "14     29  C5/170622/04974     Jueves   \n",
       "15     30  C5/170622/04521     Jueves   \n",
       "16     35  C5/170622/00003  Miércoles   \n",
       "17     36  BJ/170622/00147     Jueves   \n",
       "18     37  C5/170622/07205     Jueves   \n",
       "19     38  C5/170622/04173     Jueves   \n",
       "\n",
       "                                        codigo_cierre    delegacion_inicio  \\\n",
       "0   (N) La unidad de atención a emergencias fue de...  VENUSTIANO CARRANZA   \n",
       "1   (A) La unidad de atención a emergencias fue de...           IZTAPALAPA   \n",
       "2   (N) La unidad de atención a emergencias fue de...           IZTAPALAPA   \n",
       "3   (N) La unidad de atención a emergencias fue de...           CUAJIMALPA   \n",
       "4   (N) La unidad de atención a emergencias fue de...       MIGUEL HIDALGO   \n",
       "5   (A) La unidad de atención a emergencias fue de...       ALVARO OBREGON   \n",
       "6   (A) La unidad de atención a emergencias fue de...       ALVARO OBREGON   \n",
       "7   (A) La unidad de atención a emergencias fue de...    GUSTAVO A. MADERO   \n",
       "8   (A) La unidad de atención a emergencias fue de...            IZTACALCO   \n",
       "9   (N) La unidad de atención a emergencias fue de...       ALVARO OBREGON   \n",
       "10  (N) La unidad de atención a emergencias fue de...           IZTAPALAPA   \n",
       "11  (A) La unidad de atención a emergencias fue de...        BENITO JUAREZ   \n",
       "12  (A) La unidad de atención a emergencias fue de...           IZTAPALAPA   \n",
       "13  (A) La unidad de atención a emergencias fue de...           IZTAPALAPA   \n",
       "14  (N) La unidad de atención a emergencias fue de...           CUAJIMALPA   \n",
       "15  (N) La unidad de atención a emergencias fue de...    GUSTAVO A. MADERO   \n",
       "16  (A) La unidad de atención a emergencias fue de...             COYOACAN   \n",
       "17  (A) La unidad de atención a emergencias fue de...        BENITO JUAREZ   \n",
       "18  (N) La unidad de atención a emergencias fue de...              TLALPAN   \n",
       "19  (A) La unidad de atención a emergencias fue de...             COYOACAN   \n",
       "\n",
       "                       incidente_c4    latitud   longitud  clas_con_f_alarma  \\\n",
       "0   accidente-choque sin lesionados  19.430530 -99.052600         EMERGENCIA   \n",
       "1   accidente-choque sin lesionados  19.386760 -99.033500         EMERGENCIA   \n",
       "2   accidente-choque sin lesionados  19.350170 -99.073240         EMERGENCIA   \n",
       "3   accidente-choque sin lesionados  19.372730 -99.277530         EMERGENCIA   \n",
       "4   accidente-choque sin lesionados  19.453160 -99.198680         EMERGENCIA   \n",
       "5   accidente-choque sin lesionados  19.316550 -99.220900         EMERGENCIA   \n",
       "6   accidente-choque sin lesionados  19.397480 -99.190120         EMERGENCIA   \n",
       "7   accidente-choque con lesionados  19.479010 -99.097550  URGENCIAS MEDICAS   \n",
       "8   accidente-choque sin lesionados  19.392350 -99.098670         EMERGENCIA   \n",
       "9   accidente-choque sin lesionados  19.403120 -99.196730         EMERGENCIA   \n",
       "10            lesionado-atropellado  19.337420 -99.019020  URGENCIAS MEDICAS   \n",
       "11  accidente-choque sin lesionados  19.371450 -99.178880         EMERGENCIA   \n",
       "12           accidente-motociclista  19.306810 -99.081940  URGENCIAS MEDICAS   \n",
       "13  accidente-choque sin lesionados  19.350450 -99.046440         EMERGENCIA   \n",
       "14  accidente-choque sin lesionados  19.380330 -99.259450         EMERGENCIA   \n",
       "15  accidente-choque sin lesionados  19.492220 -99.085470         EMERGENCIA   \n",
       "16  accidente-choque sin lesionados  19.334470 -99.123760         EMERGENCIA   \n",
       "17  accidente-choque sin lesionados  19.366314 -99.178748         EMERGENCIA   \n",
       "18  accidente-choque sin lesionados  19.293500 -99.220800         EMERGENCIA   \n",
       "19  accidente-choque con lesionados  19.322280 -99.105420  URGENCIAS MEDICAS   \n",
       "\n",
       "        tipo_entrada    delegacion_cierre mes fecha_hora_creacion  \\\n",
       "0    LLAMADA DEL 911  VENUSTIANO CARRANZA   6 2017-06-22 13:44:52   \n",
       "1    LLAMADA DEL 911           IZTAPALAPA   6 2017-06-21 23:29:01   \n",
       "2    LLAMADA DEL 911           IZTAPALAPA   6 2017-06-22 08:51:30   \n",
       "3    LLAMADA DEL 911           CUAJIMALPA   6 2017-06-22 13:49:44   \n",
       "4    LLAMADA DEL 911       MIGUEL HIDALGO   6 2017-06-22 15:48:39   \n",
       "5    LLAMADA DEL 911       ALVARO OBREGON   6 2017-06-22 14:14:50   \n",
       "6    LLAMADA DEL 911       ALVARO OBREGON   6 2017-06-21 21:36:02   \n",
       "7    LLAMADA DEL 911    GUSTAVO A. MADERO   6 2017-06-21 22:15:26   \n",
       "8    LLAMADA DEL 911            IZTACALCO   6 2017-06-22 16:34:47   \n",
       "9    LLAMADA DEL 911       ALVARO OBREGON   6 2017-06-22 11:54:17   \n",
       "10   LLAMADA DEL 911           IZTAPALAPA   6 2017-06-22 20:08:21   \n",
       "11   LLAMADA DEL 911        BENITO JUAREZ   6 2017-06-22 14:04:26   \n",
       "12             RADIO           IZTAPALAPA   6 2017-06-22 10:33:02   \n",
       "13   LLAMADA DEL 911           IZTAPALAPA   6 2017-06-22 17:14:47   \n",
       "14   LLAMADA DEL 911           CUAJIMALPA   6 2017-06-22 16:24:03   \n",
       "15   LLAMADA DEL 911    GUSTAVO A. MADERO   6 2017-06-22 15:31:27   \n",
       "16   LLAMADA DEL 911             COYOACAN   6 2017-06-21 23:59:19   \n",
       "17  BOTÓN DE AUXILIO        BENITO JUAREZ   6 2017-06-22 00:30:55   \n",
       "18   LLAMADA DEL 911              TLALPAN   6 2017-06-22 21:10:02   \n",
       "19   LLAMADA DEL 911             COYOACAN   6 2017-06-22 14:46:11   \n",
       "\n",
       "     fecha_hora_cierre  \n",
       "0  2017-06-22 16:48:07  \n",
       "1  2017-06-22 03:53:51  \n",
       "2  2017-06-22 10:47:19  \n",
       "3  2017-06-22 14:17:46  \n",
       "4  2017-06-22 16:47:41  \n",
       "5  2017-06-22 18:05:37  \n",
       "6  2017-06-22 00:14:49  \n",
       "7  2017-06-22 01:57:31  \n",
       "8  2017-06-22 18:37:53  \n",
       "9  2017-06-22 12:04:51  \n",
       "10 2017-06-22 20:20:23  \n",
       "11 2017-06-22 15:49:39  \n",
       "12 2017-06-22 11:59:14  \n",
       "13 2017-06-22 21:35:44  \n",
       "14 2017-06-22 16:48:00  \n",
       "15 2017-06-22 18:19:41  \n",
       "16 2017-06-22 01:29:56  \n",
       "17 2017-06-22 00:35:40  \n",
       "18 2017-06-22 21:17:25  \n",
       "19 2017-06-22 17:15:21  "
      ]
     },
     "execution_count": 22,
     "metadata": {},
     "output_type": "execute_result"
    }
   ],
   "source": [
    "data_clean.reset_index(inplace=True)\n",
    "data_s2 = data_clean.copy()\n",
    "data_clean.head(20)"
   ]
  },
  {
   "cell_type": "code",
   "execution_count": 23,
   "metadata": {},
   "outputs": [],
   "source": [
    "data_clean.to_csv(\"data/incidentes-viales-c5-limpio.csv\", sep=\"$\")"
   ]
  },
  {
   "cell_type": "markdown",
   "metadata": {},
   "source": [
    "# Resolución de preguntas"
   ]
  },
  {
   "cell_type": "markdown",
   "metadata": {},
   "source": [
    "## Separación de accidentes y falsas alarmas"
   ]
  },
  {
   "cell_type": "markdown",
   "metadata": {},
   "source": [
    "Para poder responder las preguntas planteadas, es necesatio diferenciar claramente los incidentes viales observados en la Ciudad de México, separando los reportes identificados como falsas alarmas, que son aquellos en los que la SSC determinó que el evento reportado no era un incidente vial real.\n",
    "\n",
    "Tales falsas alarmas se identifican con la etiqueta F en la columna \"codigo_cierre\""
   ]
  },
  {
   "cell_type": "code",
   "execution_count": 24,
   "metadata": {},
   "outputs": [],
   "source": [
    "accidentes = data_clean[~data_clean[\"codigo_cierre\"].str.contains(\"F\", regex=True)]\n",
    "#falsas = data_clean[data_clean[\"codigo_cierre\"].str.contains(\"F\", regex=True)]"
   ]
  },
  {
   "cell_type": "markdown",
   "metadata": {},
   "source": [
    "## I. Distribución temporal de los incidentes automovilísticos"
   ]
  },
  {
   "cell_type": "markdown",
   "metadata": {},
   "source": [
    "Para poder responder de manera sencilla a las preguntas relacionadas con el tiempo al que ocurren los accidentes, se añadieron columnas de apoyo al dataset de accidentes:"
   ]
  },
  {
   "cell_type": "code",
   "execution_count": 25,
   "metadata": {},
   "outputs": [
    {
     "name": "stderr",
     "output_type": "stream",
     "text": [
      "<ipython-input-25-f54ca05add33>:2: SettingWithCopyWarning: \n",
      "A value is trying to be set on a copy of a slice from a DataFrame.\n",
      "Try using .loc[row_indexer,col_indexer] = value instead\n",
      "\n",
      "See the caveats in the documentation: https://pandas.pydata.org/pandas-docs/stable/user_guide/indexing.html#returning-a-view-versus-a-copy\n",
      "  accidentes[\"año\"] =accidentes[\"fecha_hora_creacion\"].dt.year\n",
      "<ipython-input-25-f54ca05add33>:5: SettingWithCopyWarning: \n",
      "A value is trying to be set on a copy of a slice from a DataFrame.\n",
      "Try using .loc[row_indexer,col_indexer] = value instead\n",
      "\n",
      "See the caveats in the documentation: https://pandas.pydata.org/pandas-docs/stable/user_guide/indexing.html#returning-a-view-versus-a-copy\n",
      "  accidentes[\"hora\"] = accidentes[\"fecha_hora_creacion\"].dt.hour\n"
     ]
    }
   ],
   "source": [
    "# Año de ocurrencia del incidente\n",
    "accidentes[\"año\"] =accidentes[\"fecha_hora_creacion\"].dt.year\n",
    "\n",
    "# Hora de ocurrencia del incidente\n",
    "accidentes[\"hora\"] = accidentes[\"fecha_hora_creacion\"].dt.hour"
   ]
  },
  {
   "cell_type": "markdown",
   "metadata": {},
   "source": [
    "También se creo una columna con el horario en que ocurrió el incidente con base en la hora de su reporte. \n",
    "* Se considera madrugada si ocurre antes de las 6 horas\n",
    "* Se considera mañana si ocurre entre las 6 y 12 horas\n",
    "* Se considera tarde si ocurre entre las 12 y 18 horas\n",
    "* Se considera noche si ocurre pasadas las 18 horas\n"
   ]
  },
  {
   "cell_type": "code",
   "execution_count": 26,
   "metadata": {},
   "outputs": [
    {
     "data": {
      "text/plain": [
       "Index(['index', 'folio', 'dia_semana', 'codigo_cierre', 'delegacion_inicio',\n",
       "       'incidente_c4', 'latitud', 'longitud', 'clas_con_f_alarma',\n",
       "       'tipo_entrada', 'delegacion_cierre', 'mes', 'fecha_hora_creacion',\n",
       "       'fecha_hora_cierre', 'año', 'hora'],\n",
       "      dtype='object')"
      ]
     },
     "execution_count": 26,
     "metadata": {},
     "output_type": "execute_result"
    }
   ],
   "source": [
    "accidentes.columns"
   ]
  },
  {
   "cell_type": "code",
   "execution_count": 27,
   "metadata": {},
   "outputs": [
    {
     "name": "stderr",
     "output_type": "stream",
     "text": [
      "<ipython-input-27-59d34098abe4>:7: SettingWithCopyWarning: \n",
      "A value is trying to be set on a copy of a slice from a DataFrame.\n",
      "Try using .loc[row_indexer,col_indexer] = value instead\n",
      "\n",
      "See the caveats in the documentation: https://pandas.pydata.org/pandas-docs/stable/user_guide/indexing.html#returning-a-view-versus-a-copy\n",
      "  accidentes[\"horario_accidente\"] = np.select(condiciones, valores)\n"
     ]
    }
   ],
   "source": [
    "# Creacion de columna horarios\n",
    "condiciones = [(accidentes[\"hora\"] < 6),\n",
    "              (accidentes[\"hora\"] >= 6) & (accidentes[\"hora\"] < 12), \n",
    "              (accidentes[\"hora\"] >= 12) & (accidentes[\"hora\"] < 18), \n",
    "              (accidentes[\"hora\"] >= 18)]\n",
    "valores = [\"madrugada\", \"mañana\", \"tarde\", \"noche\"]\n",
    "accidentes[\"horario_accidente\"] = np.select(condiciones, valores)"
   ]
  },
  {
   "cell_type": "markdown",
   "metadata": {},
   "source": [
    "También se añade una columna con valores booleanos para determinar si el incidente ocurrió en horas pico. Para ello se compara la hora de creación del reporte contra los conocidos \"horarios pico\" del tráfico de la ciudad de México reportados por el universal (https://interactivo.eluniversal.com.mx/2017/tiempo-trafico/) que son de 7:00 a 9:00 y de 16:00 a 20:00."
   ]
  },
  {
   "cell_type": "code",
   "execution_count": 28,
   "metadata": {},
   "outputs": [
    {
     "name": "stderr",
     "output_type": "stream",
     "text": [
      "<ipython-input-28-a9598b74dc55>:3: SettingWithCopyWarning: \n",
      "A value is trying to be set on a copy of a slice from a DataFrame.\n",
      "Try using .loc[row_indexer,col_indexer] = value instead\n",
      "\n",
      "See the caveats in the documentation: https://pandas.pydata.org/pandas-docs/stable/user_guide/indexing.html#returning-a-view-versus-a-copy\n",
      "  accidentes[\"is_pico\"] = np.where(horas_pico, True, False)\n"
     ]
    }
   ],
   "source": [
    "# Creación de columna de hora pico\n",
    "horas_pico = ((accidentes[\"hora\"] >= 7) & (accidentes[\"hora\"] <=9)) | ((accidentes[\"hora\"] >= 16) & (accidentes[\"hora\"] <= 20))\n",
    "accidentes[\"is_pico\"] = np.where(horas_pico, True, False)"
   ]
  },
  {
   "cell_type": "markdown",
   "metadata": {},
   "source": [
    "Adicionalmente, se crea una columna que identifica si el día en que ocurre el incidente es día festivo. Para lo que hay que crear una lista con los timestamps de los días festivos oficiales de méxico de 2017 a 2021"
   ]
  },
  {
   "cell_type": "code",
   "execution_count": 29,
   "metadata": {},
   "outputs": [
    {
     "name": "stderr",
     "output_type": "stream",
     "text": [
      "<ipython-input-29-4947acd96484>:38: SettingWithCopyWarning: \n",
      "A value is trying to be set on a copy of a slice from a DataFrame.\n",
      "Try using .loc[row_indexer,col_indexer] = value instead\n",
      "\n",
      "See the caveats in the documentation: https://pandas.pydata.org/pandas-docs/stable/user_guide/indexing.html#returning-a-view-versus-a-copy\n",
      "  accidentes[\"is_festivo\"] = np.where(accidentes[\"fecha_hora_creacion\"].isin(festivos), True, False)\n"
     ]
    }
   ],
   "source": [
    "# días festivos\n",
    "festivos = [dt.datetime.strptime(\"2017-01-01\", '%Y-%m-%d'),\n",
    "           dt.datetime.strptime(\"2017-02-06\", '%Y-%m-%d'),\n",
    "           dt.datetime.strptime(\"2017-03-20\", '%Y-%m-%d'),\n",
    "           dt.datetime.strptime(\"2017-04-14\", '%Y-%m-%d'),\n",
    "           dt.datetime.strptime(\"2017-05-01\", '%Y-%m-%d'),\n",
    "           dt.datetime.strptime(\"2017-09-16\", '%Y-%m-%d'),\n",
    "           dt.datetime.strptime(\"2017-11-20\", '%Y-%m-%d'),\n",
    "           dt.datetime.strptime(\"2017-12-25\", '%Y-%m-%d'),\n",
    "           dt.datetime.strptime(\"2018-01-01\", '%Y-%m-%d'),\n",
    "           dt.datetime.strptime(\"2018-02-05\", '%Y-%m-%d'),\n",
    "           dt.datetime.strptime(\"2018-03-19\", '%Y-%m-%d'),\n",
    "           dt.datetime.strptime(\"2018-03-30\", '%Y-%m-%d'),\n",
    "           dt.datetime.strptime(\"2018-05-01\", '%Y-%m-%d'),\n",
    "           dt.datetime.strptime(\"2018-06-01\", '%Y-%m-%d'),\n",
    "           dt.datetime.strptime(\"2018-09-16\", '%Y-%m-%d'),\n",
    "           dt.datetime.strptime(\"2018-11-19\", '%Y-%m-%d'),\n",
    "           dt.datetime.strptime(\"2018-12-01\", '%Y-%m-%d'),\n",
    "           dt.datetime.strptime(\"2018-12-25\", '%Y-%m-%d'),\n",
    "           dt.datetime.strptime(\"2019-01-01\", '%Y-%m-%d'),\n",
    "           dt.datetime.strptime(\"2019-02-04\", '%Y-%m-%d'),\n",
    "           dt.datetime.strptime(\"2019-03-18\", '%Y-%m-%d'),\n",
    "           dt.datetime.strptime(\"2019-04-19\", '%Y-%m-%d'),\n",
    "           dt.datetime.strptime(\"2019-05-01\", '%Y-%m-%d'),\n",
    "           dt.datetime.strptime(\"2019-09-16\", '%Y-%m-%d'),\n",
    "           dt.datetime.strptime(\"2019-11-18\", '%Y-%m-%d'),\n",
    "           dt.datetime.strptime(\"2019-12-25\", '%Y-%m-%d'),\n",
    "           dt.datetime.strptime(\"2021-01-01\", '%Y-%m-%d'),\n",
    "           dt.datetime.strptime(\"2021-02-05\", '%Y-%m-%d'),\n",
    "           dt.datetime.strptime(\"2021-03-15\", '%Y-%m-%d'),\n",
    "           dt.datetime.strptime(\"2021-04-02\", '%Y-%m-%d'),\n",
    "           dt.datetime.strptime(\"2021-05-01\", '%Y-%m-%d'),\n",
    "           dt.datetime.strptime(\"2021-06-05\", '%Y-%m-%d'),\n",
    "           dt.datetime.strptime(\"2021-09-16\", '%Y-%m-%d'),\n",
    "           dt.datetime.strptime(\"2021-11-15\", '%Y-%m-%d'),\n",
    "           dt.datetime.strptime(\"2021-12-25\", '%Y-%m-%d'),]\n",
    "\n",
    "accidentes[\"is_festivo\"] = np.where(accidentes[\"fecha_hora_creacion\"].isin(festivos), True, False)"
   ]
  },
  {
   "cell_type": "markdown",
   "metadata": {},
   "source": [
    "### ¿En qué meses ocurren más accidentes?"
   ]
  },
  {
   "cell_type": "code",
   "execution_count": 32,
   "metadata": {
    "scrolled": true
   },
   "outputs": [
    {
     "name": "stderr",
     "output_type": "stream",
     "text": [
      "<ipython-input-32-0e4b2538ff4a>:1: SettingWithCopyWarning: \n",
      "A value is trying to be set on a copy of a slice from a DataFrame.\n",
      "Try using .loc[row_indexer,col_indexer] = value instead\n",
      "\n",
      "See the caveats in the documentation: https://pandas.pydata.org/pandas-docs/stable/user_guide/indexing.html#returning-a-view-versus-a-copy\n",
      "  accidentes[\"Mes\"] = accidentes[\"mes\"].map({1: \"Enero\",\n"
     ]
    },
    {
     "data": {
      "text/plain": [
       "<matplotlib.axes._subplots.AxesSubplot at 0x20b0ef0c400>"
      ]
     },
     "execution_count": 32,
     "metadata": {},
     "output_type": "execute_result"
    },
    {
     "data": {
      "image/png": "[encoded data removed]",
      "text/plain": [
       "<Figure size 432x288 with 1 Axes>"
      ]
     },
     "metadata": {},
     "output_type": "display_data"
    }
   ],
   "source": [
    "accidentes[\"Mes\"] = accidentes[\"mes\"].map({1: \"Enero\", \n",
    "                                          2: \"Febrero\",\n",
    "                                          3: \"Marzo\", \n",
    "                                          4: \"Abril\", \n",
    "                                          5: \"Mayo\",\n",
    "                                          6: \"Junio\",\n",
    "                                          7: \"Julio\",\n",
    "                                          8: \"Agosto\", \n",
    "                                          9: \"Septiembre\",\n",
    "                                          10: \"Octubre\",\n",
    "                                          11: \"Noviembre\",\n",
    "                                          12: \"Diciembre\"})\n",
    "accidentes.groupby(\"Mes\").size().plot(kind=\"bar\")"
   ]
  },
  {
   "cell_type": "markdown",
   "metadata": {},
   "source": [
    "### ¿En qué año ocurrieron más accidentes?"
   ]
  },
  {
   "cell_type": "code",
   "execution_count": 33,
   "metadata": {
    "scrolled": false
   },
   "outputs": [
    {
     "data": {
      "text/plain": [
       "<matplotlib.axes._subplots.AxesSubplot at 0x20b0ef9be50>"
      ]
     },
     "execution_count": 33,
     "metadata": {},
     "output_type": "execute_result"
    },
    {
     "data": {
      "image/png": "[encoded data removed]",
      "text/plain": [
       "<Figure size 432x288 with 1 Axes>"
      ]
     },
     "metadata": {},
     "output_type": "display_data"
    }
   ],
   "source": [
    "# Por año\n",
    "accidentes.groupby(\"año\").size().sort_values(ascending=False).plot.pie(y=\" \")"
   ]
  },
  {
   "cell_type": "markdown",
   "metadata": {},
   "source": [
    "### ¿Cuál fue la cantidad de accidentes por mes en cada año?"
   ]
  },
  {
   "cell_type": "code",
   "execution_count": 36,
   "metadata": {
    "scrolled": true
   },
   "outputs": [
    {
     "data": {
      "text/plain": [
       "array([<matplotlib.axes._subplots.AxesSubplot object at 0x0000020B0F3EBAF0>,\n",
       "       <matplotlib.axes._subplots.AxesSubplot object at 0x0000020B0F65A190>,\n",
       "       <matplotlib.axes._subplots.AxesSubplot object at 0x0000020B0F67A3D0>,\n",
       "       <matplotlib.axes._subplots.AxesSubplot object at 0x0000020B0F6A8550>],\n",
       "      dtype=object)"
      ]
     },
     "execution_count": 36,
     "metadata": {},
     "output_type": "execute_result"
    },
    {
     "data": {
      "image/png": "[encoded data removed]",
      "text/plain": [
       "<Figure size 720x720 with 4 Axes>"
      ]
     },
     "metadata": {},
     "output_type": "display_data"
    }
   ],
   "source": [
    "accidentes.groupby([\"año\", \"Mes\"]).size().unstack(level=0).plot(kind='bar', subplots=True, figsize = (10,10))"
   ]
  },
  {
   "cell_type": "markdown",
   "metadata": {},
   "source": [
    "### ¿A qué horas ocurrieron más accidentes?"
   ]
  },
  {
   "cell_type": "code",
   "execution_count": 35,
   "metadata": {},
   "outputs": [
    {
     "data": {
      "text/plain": [
       "<matplotlib.axes._subplots.AxesSubplot at 0x20b0f402970>"
      ]
     },
     "execution_count": 35,
     "metadata": {},
     "output_type": "execute_result"
    },
    {
     "data": {
      "image/png": "[encoded data removed]",
      "text/plain": [
       "<Figure size 432x288 with 1 Axes>"
      ]
     },
     "metadata": {},
     "output_type": "display_data"
    }
   ],
   "source": [
    "# Accidentes por hora\n",
    "accidentes.groupby(\"hora\").size().plot(kind=\"bar\")"
   ]
  },
  {
   "cell_type": "markdown",
   "metadata": {},
   "source": [
    "### ¿En qué días ocurren más reportes de incidentes?"
   ]
  },
  {
   "cell_type": "code",
   "execution_count": 37,
   "metadata": {},
   "outputs": [
    {
     "data": {
      "text/plain": [
       "<matplotlib.axes._subplots.AxesSubplot at 0x20b0fa3eee0>"
      ]
     },
     "execution_count": 37,
     "metadata": {},
     "output_type": "execute_result"
    },
    {
     "data": {
      "image/png": "[encoded data removed]",
      "text/plain": [
       "<Figure size 432x288 with 1 Axes>"
      ]
     },
     "metadata": {},
     "output_type": "display_data"
    }
   ],
   "source": [
    "accidentes.groupby(\"dia_semana\").size().plot.pie()"
   ]
  },
  {
   "cell_type": "markdown",
   "metadata": {},
   "source": [
    "### ¿Cuántos incidentes se reportan por hora en cada día de la semana?"
   ]
  },
  {
   "cell_type": "code",
   "execution_count": 38,
   "metadata": {},
   "outputs": [
    {
     "data": {
      "text/plain": [
       "array([<matplotlib.axes._subplots.AxesSubplot object at 0x0000020B0FC070A0>,\n",
       "       <matplotlib.axes._subplots.AxesSubplot object at 0x0000020B0FC2E9A0>,\n",
       "       <matplotlib.axes._subplots.AxesSubplot object at 0x0000020B0FC58070>,\n",
       "       <matplotlib.axes._subplots.AxesSubplot object at 0x0000020B0FC7F610>,\n",
       "       <matplotlib.axes._subplots.AxesSubplot object at 0x0000020B0FCAABB0>,\n",
       "       <matplotlib.axes._subplots.AxesSubplot object at 0x0000020B0FCE1190>,\n",
       "       <matplotlib.axes._subplots.AxesSubplot object at 0x0000020B0FCED130>],\n",
       "      dtype=object)"
      ]
     },
     "execution_count": 38,
     "metadata": {},
     "output_type": "execute_result"
    },
    {
     "data": {
      "image/png": "[encoded data removed]",
      "text/plain": [
       "<Figure size 720x720 with 7 Axes>"
      ]
     },
     "metadata": {},
     "output_type": "display_data"
    }
   ],
   "source": [
    "accidentes.groupby([\"dia_semana\", \"hora\"]).size().unstack(level=0).plot(kind='bar', subplots=True, figsize = (10,10))"
   ]
  },
  {
   "cell_type": "markdown",
   "metadata": {},
   "source": [
    "### ¿En que horarios se concentran más los incidentes?"
   ]
  },
  {
   "cell_type": "code",
   "execution_count": 39,
   "metadata": {},
   "outputs": [
    {
     "data": {
      "text/plain": [
       "<matplotlib.axes._subplots.AxesSubplot at 0x20b0f285b50>"
      ]
     },
     "execution_count": 39,
     "metadata": {},
     "output_type": "execute_result"
    },
    {
     "data": {
      "image/png": "[encoded data removed]",
      "text/plain": [
       "<Figure size 432x288 with 1 Axes>"
      ]
     },
     "metadata": {},
     "output_type": "display_data"
    }
   ],
   "source": [
    "accidentes.groupby(\"horario_accidente\").size().plot.pie()"
   ]
  },
  {
   "cell_type": "markdown",
   "metadata": {},
   "source": [
    "### ¿Ocurren más accidentes en horas pico?"
   ]
  },
  {
   "cell_type": "code",
   "execution_count": 40,
   "metadata": {},
   "outputs": [
    {
     "data": {
      "text/plain": [
       "<matplotlib.axes._subplots.AxesSubplot at 0x20b11577970>"
      ]
     },
     "execution_count": 40,
     "metadata": {},
     "output_type": "execute_result"
    },
    {
     "data": {
      "image/png": "[encoded data removed]",
      "text/plain": [
       "<Figure size 432x288 with 1 Axes>"
      ]
     },
     "metadata": {},
     "output_type": "display_data"
    }
   ],
   "source": [
    "accidentes.groupby(\"is_pico\").size().sort_values(ascending=False).plot.pie() "
   ]
  },
  {
   "cell_type": "markdown",
   "metadata": {},
   "source": [
    "### ¿Ocurren más incidentes en días festivos?"
   ]
  },
  {
   "cell_type": "code",
   "execution_count": 41,
   "metadata": {},
   "outputs": [
    {
     "data": {
      "text/plain": [
       "<matplotlib.axes._subplots.AxesSubplot at 0x20b112a8610>"
      ]
     },
     "execution_count": 41,
     "metadata": {},
     "output_type": "execute_result"
    },
    {
     "data": {
      "image/png": "[encoded data removed]",
      "text/plain": [
       "<Figure size 432x288 with 1 Axes>"
      ]
     },
     "metadata": {},
     "output_type": "display_data"
    }
   ],
   "source": [
    "accidentes.groupby(\"is_festivo\").size().plot.pie()"
   ]
  },
  {
   "cell_type": "markdown",
   "metadata": {},
   "source": [
    "Los puntos importantes de conocer para este propósito se enfocan en tres puntos clave:\n",
    "\n",
    "La distribución de la ocurrencia de incidentes viales en el tiempo, que abre preguntas como:\n",
    "\n",
    "¿En qué épocas del año hay más accidentes?\n",
    "¿En qué horarios del día ocurren más accidentes?\n",
    "¿Hay más accidentes en días festivos, o fines de semana, o vacaciones que en días normales?\n",
    "La distribución geográfica de la ocurrencia de accidentes\n",
    "\n",
    "¿En qué lugares ocurren más accidentes¡\n",
    "La preparación de las autoriades para responder a dichos incidentes\n",
    "\n",
    "¿Cómo se enteran las autoridades de u incidente vial?\n",
    "¿Qué proceso se lleva a cabo después de que ocurre un incidente?\n",
    "La letalidad de los incidentes viales\n",
    "\n",
    "¿Cuántos incidentes implican la defunción de los involucrados?\n",
    "¿Qué tipos de accidentes son más comunes?\n",
    "¿Qué tipo de accidentes son más letales?\n",
    "\n",
    "La situación actual de contingencia sanitaria\n",
    "¿Han cocurrido menos incidentes desde que inició la pandemia?\n",
    "¿La pandemia ha influido en la letalidad de los accidentes?"
   ]
  },
  {
   "cell_type": "markdown",
   "metadata": {},
   "source": [
    "## La distribución geográfica de la ocurrencia de accidentes"
   ]
  },
  {
   "cell_type": "code",
   "execution_count": 42,
   "metadata": {},
   "outputs": [
    {
     "data": {
      "text/html": [
       "<div>\n",
       "<style scoped>\n",
       "    .dataframe tbody tr th:only-of-type {\n",
       "        vertical-align: middle;\n",
       "    }\n",
       "\n",
       "    .dataframe tbody tr th {\n",
       "        vertical-align: top;\n",
       "    }\n",
       "\n",
       "    .dataframe thead th {\n",
       "        text-align: right;\n",
       "    }\n",
       "</style>\n",
       "<table border=\"1\" class=\"dataframe\">\n",
       "  <thead>\n",
       "    <tr style=\"text-align: right;\">\n",
       "      <th></th>\n",
       "      <th>index</th>\n",
       "      <th>folio</th>\n",
       "      <th>dia_semana</th>\n",
       "      <th>codigo_cierre</th>\n",
       "      <th>delegacion_inicio</th>\n",
       "      <th>incidente_c4</th>\n",
       "      <th>latitud</th>\n",
       "      <th>longitud</th>\n",
       "      <th>clas_con_f_alarma</th>\n",
       "      <th>tipo_entrada</th>\n",
       "      <th>delegacion_cierre</th>\n",
       "      <th>mes</th>\n",
       "      <th>fecha_hora_creacion</th>\n",
       "      <th>fecha_hora_cierre</th>\n",
       "    </tr>\n",
       "  </thead>\n",
       "  <tbody>\n",
       "    <tr>\n",
       "      <th>0</th>\n",
       "      <td>2</td>\n",
       "      <td>C5/170622/03715</td>\n",
       "      <td>Jueves</td>\n",
       "      <td>(N) La unidad de atención a emergencias fue de...</td>\n",
       "      <td>VENUSTIANO CARRANZA</td>\n",
       "      <td>accidente-choque sin lesionados</td>\n",
       "      <td>19.430530</td>\n",
       "      <td>-99.052600</td>\n",
       "      <td>EMERGENCIA</td>\n",
       "      <td>LLAMADA DEL 911</td>\n",
       "      <td>VENUSTIANO CARRANZA</td>\n",
       "      <td>6</td>\n",
       "      <td>2017-06-22 13:44:52</td>\n",
       "      <td>2017-06-22 16:48:07</td>\n",
       "    </tr>\n",
       "    <tr>\n",
       "      <th>1</th>\n",
       "      <td>5</td>\n",
       "      <td>C5/170621/07339</td>\n",
       "      <td>Miércoles</td>\n",
       "      <td>(A) La unidad de atención a emergencias fue de...</td>\n",
       "      <td>IZTAPALAPA</td>\n",
       "      <td>accidente-choque sin lesionados</td>\n",
       "      <td>19.386760</td>\n",
       "      <td>-99.033500</td>\n",
       "      <td>EMERGENCIA</td>\n",
       "      <td>LLAMADA DEL 911</td>\n",
       "      <td>IZTAPALAPA</td>\n",
       "      <td>6</td>\n",
       "      <td>2017-06-21 23:29:01</td>\n",
       "      <td>2017-06-22 03:53:51</td>\n",
       "    </tr>\n",
       "    <tr>\n",
       "      <th>2</th>\n",
       "      <td>8</td>\n",
       "      <td>C5/170622/01694</td>\n",
       "      <td>Jueves</td>\n",
       "      <td>(N) La unidad de atención a emergencias fue de...</td>\n",
       "      <td>IZTAPALAPA</td>\n",
       "      <td>accidente-choque sin lesionados</td>\n",
       "      <td>19.350170</td>\n",
       "      <td>-99.073240</td>\n",
       "      <td>EMERGENCIA</td>\n",
       "      <td>LLAMADA DEL 911</td>\n",
       "      <td>IZTAPALAPA</td>\n",
       "      <td>6</td>\n",
       "      <td>2017-06-22 08:51:30</td>\n",
       "      <td>2017-06-22 10:47:19</td>\n",
       "    </tr>\n",
       "    <tr>\n",
       "      <th>3</th>\n",
       "      <td>9</td>\n",
       "      <td>C5/170622/03779</td>\n",
       "      <td>Jueves</td>\n",
       "      <td>(N) La unidad de atención a emergencias fue de...</td>\n",
       "      <td>CUAJIMALPA</td>\n",
       "      <td>accidente-choque sin lesionados</td>\n",
       "      <td>19.372730</td>\n",
       "      <td>-99.277530</td>\n",
       "      <td>EMERGENCIA</td>\n",
       "      <td>LLAMADA DEL 911</td>\n",
       "      <td>CUAJIMALPA</td>\n",
       "      <td>6</td>\n",
       "      <td>2017-06-22 13:49:44</td>\n",
       "      <td>2017-06-22 14:17:46</td>\n",
       "    </tr>\n",
       "    <tr>\n",
       "      <th>4</th>\n",
       "      <td>12</td>\n",
       "      <td>C5/170622/04693</td>\n",
       "      <td>Jueves</td>\n",
       "      <td>(N) La unidad de atención a emergencias fue de...</td>\n",
       "      <td>MIGUEL HIDALGO</td>\n",
       "      <td>accidente-choque sin lesionados</td>\n",
       "      <td>19.453160</td>\n",
       "      <td>-99.198680</td>\n",
       "      <td>EMERGENCIA</td>\n",
       "      <td>LLAMADA DEL 911</td>\n",
       "      <td>MIGUEL HIDALGO</td>\n",
       "      <td>6</td>\n",
       "      <td>2017-06-22 15:48:39</td>\n",
       "      <td>2017-06-22 16:47:41</td>\n",
       "    </tr>\n",
       "    <tr>\n",
       "      <th>...</th>\n",
       "      <td>...</td>\n",
       "      <td>...</td>\n",
       "      <td>...</td>\n",
       "      <td>...</td>\n",
       "      <td>...</td>\n",
       "      <td>...</td>\n",
       "      <td>...</td>\n",
       "      <td>...</td>\n",
       "      <td>...</td>\n",
       "      <td>...</td>\n",
       "      <td>...</td>\n",
       "      <td>...</td>\n",
       "      <td>...</td>\n",
       "      <td>...</td>\n",
       "    </tr>\n",
       "    <tr>\n",
       "      <th>369257</th>\n",
       "      <td>693675</td>\n",
       "      <td>C5/210228/09218</td>\n",
       "      <td>Domingo</td>\n",
       "      <td>N</td>\n",
       "      <td>MIGUEL HIDALGO</td>\n",
       "      <td>accidente-motociclista</td>\n",
       "      <td>19.392430</td>\n",
       "      <td>-99.239100</td>\n",
       "      <td>URGENCIAS MEDICAS</td>\n",
       "      <td>LLAMADA DEL 911</td>\n",
       "      <td>MIGUEL HIDALGO</td>\n",
       "      <td>2</td>\n",
       "      <td>2021-02-28 22:23:07</td>\n",
       "      <td>2021-02-28 22:50:09</td>\n",
       "    </tr>\n",
       "    <tr>\n",
       "      <th>369258</th>\n",
       "      <td>693688</td>\n",
       "      <td>C5/210228/09309</td>\n",
       "      <td>Domingo</td>\n",
       "      <td>N</td>\n",
       "      <td>IZTAPALAPA</td>\n",
       "      <td>accidente-choque sin lesionados</td>\n",
       "      <td>19.349940</td>\n",
       "      <td>-99.066890</td>\n",
       "      <td>EMERGENCIA</td>\n",
       "      <td>LLAMADA DEL 911</td>\n",
       "      <td>IZTAPALAPA</td>\n",
       "      <td>2</td>\n",
       "      <td>2021-02-28 22:24:48</td>\n",
       "      <td>2021-02-28 23:44:19</td>\n",
       "    </tr>\n",
       "    <tr>\n",
       "      <th>369259</th>\n",
       "      <td>693689</td>\n",
       "      <td>C5/210228/09401</td>\n",
       "      <td>Domingo</td>\n",
       "      <td>N</td>\n",
       "      <td>GUSTAVO A. MADERO</td>\n",
       "      <td>lesionado-atropellado</td>\n",
       "      <td>19.491660</td>\n",
       "      <td>-99.092150</td>\n",
       "      <td>URGENCIAS MEDICAS</td>\n",
       "      <td>LLAMADA DEL 911</td>\n",
       "      <td>GUSTAVO A. MADERO</td>\n",
       "      <td>2</td>\n",
       "      <td>2021-02-28 22:45:49</td>\n",
       "      <td>2021-02-28 22:58:58</td>\n",
       "    </tr>\n",
       "    <tr>\n",
       "      <th>369260</th>\n",
       "      <td>693691</td>\n",
       "      <td>C5/210228/09417</td>\n",
       "      <td>Domingo</td>\n",
       "      <td>A</td>\n",
       "      <td>AZCAPOTZALCO</td>\n",
       "      <td>accidente-choque sin lesionados</td>\n",
       "      <td>19.481660</td>\n",
       "      <td>-99.218560</td>\n",
       "      <td>EMERGENCIA</td>\n",
       "      <td>LLAMADA DEL 911</td>\n",
       "      <td>AZCAPOTZALCO</td>\n",
       "      <td>2</td>\n",
       "      <td>2021-02-28 22:48:36</td>\n",
       "      <td>2021-02-28 23:48:19</td>\n",
       "    </tr>\n",
       "    <tr>\n",
       "      <th>369261</th>\n",
       "      <td>693692</td>\n",
       "      <td>IZ/210228/07916</td>\n",
       "      <td>Domingo</td>\n",
       "      <td>A</td>\n",
       "      <td>XOCHIMILCO</td>\n",
       "      <td>accidente-choque sin lesionados</td>\n",
       "      <td>19.244195</td>\n",
       "      <td>-99.108017</td>\n",
       "      <td>EMERGENCIA</td>\n",
       "      <td>BOTÓN DE AUXILIO</td>\n",
       "      <td>XOCHIMILCO</td>\n",
       "      <td>2</td>\n",
       "      <td>2021-02-28 19:46:33</td>\n",
       "      <td>2021-02-28 20:17:58</td>\n",
       "    </tr>\n",
       "  </tbody>\n",
       "</table>\n",
       "<p>364009 rows × 14 columns</p>\n",
       "</div>"
      ],
      "text/plain": [
       "         index            folio dia_semana  \\\n",
       "0            2  C5/170622/03715     Jueves   \n",
       "1            5  C5/170621/07339  Miércoles   \n",
       "2            8  C5/170622/01694     Jueves   \n",
       "3            9  C5/170622/03779     Jueves   \n",
       "4           12  C5/170622/04693     Jueves   \n",
       "...        ...              ...        ...   \n",
       "369257  693675  C5/210228/09218    Domingo   \n",
       "369258  693688  C5/210228/09309    Domingo   \n",
       "369259  693689  C5/210228/09401    Domingo   \n",
       "369260  693691  C5/210228/09417    Domingo   \n",
       "369261  693692  IZ/210228/07916    Domingo   \n",
       "\n",
       "                                            codigo_cierre  \\\n",
       "0       (N) La unidad de atención a emergencias fue de...   \n",
       "1       (A) La unidad de atención a emergencias fue de...   \n",
       "2       (N) La unidad de atención a emergencias fue de...   \n",
       "3       (N) La unidad de atención a emergencias fue de...   \n",
       "4       (N) La unidad de atención a emergencias fue de...   \n",
       "...                                                   ...   \n",
       "369257                                                  N   \n",
       "369258                                                  N   \n",
       "369259                                                  N   \n",
       "369260                                                  A   \n",
       "369261                                                  A   \n",
       "\n",
       "          delegacion_inicio                     incidente_c4    latitud  \\\n",
       "0       VENUSTIANO CARRANZA  accidente-choque sin lesionados  19.430530   \n",
       "1                IZTAPALAPA  accidente-choque sin lesionados  19.386760   \n",
       "2                IZTAPALAPA  accidente-choque sin lesionados  19.350170   \n",
       "3                CUAJIMALPA  accidente-choque sin lesionados  19.372730   \n",
       "4            MIGUEL HIDALGO  accidente-choque sin lesionados  19.453160   \n",
       "...                     ...                              ...        ...   \n",
       "369257       MIGUEL HIDALGO           accidente-motociclista  19.392430   \n",
       "369258           IZTAPALAPA  accidente-choque sin lesionados  19.349940   \n",
       "369259    GUSTAVO A. MADERO            lesionado-atropellado  19.491660   \n",
       "369260         AZCAPOTZALCO  accidente-choque sin lesionados  19.481660   \n",
       "369261           XOCHIMILCO  accidente-choque sin lesionados  19.244195   \n",
       "\n",
       "         longitud  clas_con_f_alarma      tipo_entrada    delegacion_cierre  \\\n",
       "0      -99.052600         EMERGENCIA   LLAMADA DEL 911  VENUSTIANO CARRANZA   \n",
       "1      -99.033500         EMERGENCIA   LLAMADA DEL 911           IZTAPALAPA   \n",
       "2      -99.073240         EMERGENCIA   LLAMADA DEL 911           IZTAPALAPA   \n",
       "3      -99.277530         EMERGENCIA   LLAMADA DEL 911           CUAJIMALPA   \n",
       "4      -99.198680         EMERGENCIA   LLAMADA DEL 911       MIGUEL HIDALGO   \n",
       "...           ...                ...               ...                  ...   \n",
       "369257 -99.239100  URGENCIAS MEDICAS   LLAMADA DEL 911       MIGUEL HIDALGO   \n",
       "369258 -99.066890         EMERGENCIA   LLAMADA DEL 911           IZTAPALAPA   \n",
       "369259 -99.092150  URGENCIAS MEDICAS   LLAMADA DEL 911    GUSTAVO A. MADERO   \n",
       "369260 -99.218560         EMERGENCIA   LLAMADA DEL 911         AZCAPOTZALCO   \n",
       "369261 -99.108017         EMERGENCIA  BOTÓN DE AUXILIO           XOCHIMILCO   \n",
       "\n",
       "       mes fecha_hora_creacion   fecha_hora_cierre  \n",
       "0        6 2017-06-22 13:44:52 2017-06-22 16:48:07  \n",
       "1        6 2017-06-21 23:29:01 2017-06-22 03:53:51  \n",
       "2        6 2017-06-22 08:51:30 2017-06-22 10:47:19  \n",
       "3        6 2017-06-22 13:49:44 2017-06-22 14:17:46  \n",
       "4        6 2017-06-22 15:48:39 2017-06-22 16:47:41  \n",
       "...     ..                 ...                 ...  \n",
       "369257   2 2021-02-28 22:23:07 2021-02-28 22:50:09  \n",
       "369258   2 2021-02-28 22:24:48 2021-02-28 23:44:19  \n",
       "369259   2 2021-02-28 22:45:49 2021-02-28 22:58:58  \n",
       "369260   2 2021-02-28 22:48:36 2021-02-28 23:48:19  \n",
       "369261   2 2021-02-28 19:46:33 2021-02-28 20:17:58  \n",
       "\n",
       "[364009 rows x 14 columns]"
      ]
     },
     "execution_count": 42,
     "metadata": {},
     "output_type": "execute_result"
    }
   ],
   "source": [
    "# Borrar columnas \n",
    "diccionario_de_conversion = {\n",
    "    'fecha_hora_creacion': 'datetime64[ns]',\n",
    "    'fecha_hora_cierre': 'datetime64[ns]', \n",
    "    'codigo_cierre': 'category',\n",
    "    'delegacion_inicio': 'category',\n",
    "    'incidente_c4': 'category', \n",
    "    'clas_con_f_alarma': 'category', \n",
    "    'tipo_entrada': 'category',\n",
    "    'delegacion_cierre':'category',\n",
    "    'mes':'category'\n",
    "}\n",
    "\n",
    "df = pd.read_csv('data/incidentes-viales-c5-limpio.csv', sep='$', index_col=0)\n",
    "df = df.astype(diccionario_de_conversion);\n",
    "\n",
    "# Conversión de fechas\n",
    "pd.to_datetime(accidentes['fecha_hora_creacion'], dayfirst=True)\n",
    "pd.to_datetime(accidentes['fecha_hora_cierre'], dayfirst=True)\n",
    "\n",
    "# Seleccionar solo los accidentes\n",
    "df[~df[\"codigo_cierre\"].str.contains(\"F\", regex=True)]"
   ]
  },
  {
   "cell_type": "markdown",
   "metadata": {},
   "source": [
    "### ¿En qué lugares ocurren más accidentes? "
   ]
  },
  {
   "cell_type": "code",
   "execution_count": 43,
   "metadata": {},
   "outputs": [
    {
     "data": {
      "text/plain": [
       "<matplotlib.axes._subplots.AxesSubplot at 0x20b1e66aeb0>"
      ]
     },
     "execution_count": 43,
     "metadata": {},
     "output_type": "execute_result"
    },
    {
     "data": {
      "image/png": "[encoded data removed]",
      "text/plain": [
       "<Figure size 432x288 with 1 Axes>"
      ]
     },
     "metadata": {},
     "output_type": "display_data"
    }
   ],
   "source": [
    "# En que delegación hay más accidentes por año\n",
    "top_delegaciones = df.groupby('delegacion_inicio').size().sort_values(ascending=False).index.to_list()\n",
    "top_5_delegaciones = top_delegaciones[:6]\n",
    "\n",
    "df.groupby('delegacion_inicio').size().sort_values(ascending=True).plot(kind='barh', title='Accidentes por delegación del 2016 al 2021')"
   ]
  },
  {
   "cell_type": "code",
   "execution_count": 44,
   "metadata": {},
   "outputs": [
    {
     "data": {
      "text/plain": [
       "<matplotlib.axes._subplots.AxesSubplot at 0x20b1b1dff70>"
      ]
     },
     "execution_count": 44,
     "metadata": {},
     "output_type": "execute_result"
    },
    {
     "data": {
      "image/png": "[encoded data removed]",
      "text/plain": [
       "<Figure size 720x252 with 1 Axes>"
      ]
     },
     "metadata": {},
     "output_type": "display_data"
    }
   ],
   "source": [
    "anios = [ dt.datetime.strptime(x, '%Y').year for x in ['2017','2018','2019','2021'] ]\n",
    "\n",
    "accidentes_por_delegacion_por_anio = df.groupby(['delegacion_inicio',df['fecha_hora_creacion'].dt.year]).size().sort_values(ascending=False)\n",
    "\n",
    "accidentes_por_delegacion_por_anio.loc[(top_5_delegaciones, anios)].unstack(level=0).plot(kind='bar', subplots=False, figsize=(10,3.5), title='Accidentes por delegacion Top 5')"
   ]
  },
  {
   "cell_type": "markdown",
   "metadata": {},
   "source": [
    "## La preparación de las autoriades para responder a dichos incidentes"
   ]
  },
  {
   "cell_type": "markdown",
   "metadata": {},
   "source": [
    "### ¿Cómo se enteran las autoridades de la incidente vial?"
   ]
  },
  {
   "cell_type": "code",
   "execution_count": 45,
   "metadata": {},
   "outputs": [
    {
     "data": {
      "text/plain": [
       "<matplotlib.axes._subplots.AxesSubplot at 0x20b15d70250>"
      ]
     },
     "execution_count": 45,
     "metadata": {},
     "output_type": "execute_result"
    },
    {
     "data": {
      "image/png": "[encoded data removed]",
      "text/plain": [
       "<Figure size 432x288 with 1 Axes>"
      ]
     },
     "metadata": {},
     "output_type": "display_data"
    }
   ],
   "source": [
    "top_tipo_entrada = df.groupby('tipo_entrada').size().sort_values(ascending=False).index.to_list()\n",
    "top_5_tipo_entrada = top_tipo_entrada[:5]\n",
    "df.groupby('tipo_entrada').size().sort_values(ascending=True).plot(kind='barh', title='Forma de levantamiento del 2016 al 2021')"
   ]
  },
  {
   "cell_type": "code",
   "execution_count": 46,
   "metadata": {},
   "outputs": [
    {
     "data": {
      "text/plain": [
       "<matplotlib.axes._subplots.AxesSubplot at 0x20b1b66a2e0>"
      ]
     },
     "execution_count": 46,
     "metadata": {},
     "output_type": "execute_result"
    },
    {
     "data": {
      "image/png": "[encoded data removed]",
      "text/plain": [
       "<Figure size 720x252 with 1 Axes>"
      ]
     },
     "metadata": {},
     "output_type": "display_data"
    }
   ],
   "source": [
    "via_reporte_por_delegacion = df.groupby(['tipo_entrada', 'delegacion_inicio']).size()\n",
    "\n",
    "via_reporte_por_delegacion.loc[(top_5_tipo_entrada, top_5_delegaciones)].unstack(level=0).plot(kind='bar', subplots=False, figsize=(10,3.5), title=\"Tipo de levantamiento por delegación del 2016 al 2021\")"
   ]
  },
  {
   "cell_type": "markdown",
   "metadata": {},
   "source": [
    "## ¿Qué proceso se lleva a cabo después de que ocurre un incidente?"
   ]
  },
  {
   "cell_type": "code",
   "execution_count": 47,
   "metadata": {},
   "outputs": [],
   "source": [
    "# Agregar columnas auxiliares delta de tiempo\n",
    "df['delta_timedate'] = (df['fecha_hora_cierre'] - df['fecha_hora_creacion'])\n",
    "\n",
    "# Convertir diferencia de inicio y cierre en minutos\n",
    "df['delta_hours'] = (df['fecha_hora_cierre'] - df['fecha_hora_creacion']).astype('timedelta64[h]').abs()\n",
    "\n",
    "#df['delta_hours'] = (df['fecha_hora_cierre'] - df['fecha_hora_creacion']).dt.total_seconds()/60"
   ]
  },
  {
   "cell_type": "code",
   "execution_count": 48,
   "metadata": {},
   "outputs": [
    {
     "name": "stdout",
     "output_type": "stream",
     "text": [
      "El tiempo más corto en cerrar un caso fue: 687 days 13:26:10\n",
      "El tiempo promedio en cerrar un caso fue: 0 days 00:52:07.502973\n"
     ]
    }
   ],
   "source": [
    "print(f\"El tiempo más corto en cerrar un caso fue: {df['delta_timedate'].max()}\")\n",
    "print(f\"El tiempo promedio en cerrar un caso fue: {df['delta_timedate'].mean()}\")"
   ]
  },
  {
   "cell_type": "code",
   "execution_count": 49,
   "metadata": {},
   "outputs": [
    {
     "data": {
      "text/plain": [
       "<matplotlib.axes._subplots.AxesSubplot at 0x20b1da09910>"
      ]
     },
     "execution_count": 49,
     "metadata": {},
     "output_type": "execute_result"
    },
    {
     "data": {
      "image/png": "[encoded data removed]",
      "text/plain": [
       "<Figure size 432x288 with 1 Axes>"
      ]
     },
     "metadata": {},
     "output_type": "display_data"
    }
   ],
   "source": [
    "# Tiempo promedio de respuesta por delegación en horas\n",
    "(df[df['delegacion_inicio'] == df['delegacion_cierre']])[['delegacion_inicio','delta_hours']].groupby('delegacion_inicio').mean().plot(kind='barh', title=\"Tiempo promedio de cierre de incidencia por delegación en minutos\")"
   ]
  },
  {
   "cell_type": "markdown",
   "metadata": {},
   "source": [
    "### ¿Cuántos casos se resuelven en la misma delegación? vs ¿Cuántos casos se resuelven en otras delegaciones?"
   ]
  },
  {
   "cell_type": "code",
   "execution_count": 50,
   "metadata": {},
   "outputs": [],
   "source": [
    "# Indices de los casos que fueron resultos en la misma delegación de origen\n",
    "indices_resuleto_en_delegacion = df[df['delegacion_inicio'] == df['delegacion_cierre']].index\n",
    "# Crear una columna booleana si fué resulto en la misma delegación\n",
    "df['resuelto_en_delegacion'] = df.index.map(lambda x: x in indices_resuleto_en_delegacion)\n"
   ]
  },
  {
   "cell_type": "code",
   "execution_count": 51,
   "metadata": {},
   "outputs": [
    {
     "data": {
      "text/plain": [
       "<matplotlib.axes._subplots.AxesSubplot at 0x20b18ebe7c0>"
      ]
     },
     "execution_count": 51,
     "metadata": {},
     "output_type": "execute_result"
    },
    {
     "data": {
      "image/png": "[encoded data removed]",
      "text/plain": [
       "<Figure size 720x252 with 1 Axes>"
      ]
     },
     "metadata": {},
     "output_type": "display_data"
    }
   ],
   "source": [
    "df.groupby(['resuelto_en_delegacion','delegacion_inicio']).size().unstack(level=0).plot(kind='bar', subplots=False, figsize=(10,3.5), title=\"Casos resueltos en la misma delegación\")"
   ]
  },
  {
   "cell_type": "markdown",
   "metadata": {},
   "source": [
    "### Porcentaje de casos resueltos en la misma delegacion"
   ]
  },
  {
   "cell_type": "code",
   "execution_count": 52,
   "metadata": {},
   "outputs": [
    {
     "data": {
      "text/plain": [
       "<matplotlib.axes._subplots.AxesSubplot at 0x20b129ce190>"
      ]
     },
     "execution_count": 52,
     "metadata": {},
     "output_type": "execute_result"
    },
    {
     "data": {
      "image/png": "[encoded data removed]",
      "text/plain": [
       "<Figure size 720x252 with 1 Axes>"
      ]
     },
     "metadata": {},
     "output_type": "display_data"
    }
   ],
   "source": [
    "numero_incidencias_por_delegacion = df.groupby('delegacion_inicio').size()\n",
    "\n",
    "numero_incidencias_resueltas_en_delegacion = df[df['resuelto_en_delegacion']].groupby('delegacion_inicio').size()\n",
    "\n",
    "(numero_incidencias_resueltas_en_delegacion / numero_incidencias_por_delegacion).sort_values(ascending=False).plot(kind='bar', subplots=False, figsize=(10,3.5), title=\"Porcentaje de casos resueltos en la misma delegación\")"
   ]
  },
  {
   "cell_type": "markdown",
   "metadata": {},
   "source": [
    "## ¿Qué tan letales son los accidentes automovilísticos?\n",
    "#### Parámetro: datos que reporten cadáveres / cantidad de reportes totales por mes"
   ]
  },
  {
   "cell_type": "code",
   "execution_count": 54,
   "metadata": {},
   "outputs": [
    {
     "ename": "KeyError",
     "evalue": "'Passing list-likes to .loc or [] with any missing labels is no longer supported, see https://pandas.pydata.org/pandas-docs/stable/user_guide/indexing.html#deprecate-loc-reindex-listlike'",
     "output_type": "error",
     "traceback": [
      "\u001b[1;31m----------------------------------------------------------------------\u001b[0m",
      "\u001b[1;31mKeyError\u001b[0m                             Traceback (most recent call last)",
      "\u001b[1;32m<ipython-input-54-56d8efd6ede9>\u001b[0m in \u001b[0;36m<module>\u001b[1;34m\u001b[0m\n\u001b[0;32m      4\u001b[0m \u001b[0mletalidad_mensual\u001b[0m \u001b[1;33m=\u001b[0m \u001b[0mseries_muertos\u001b[0m \u001b[1;33m*\u001b[0m \u001b[1;36m100\u001b[0m \u001b[1;33m/\u001b[0m \u001b[0mseries_total\u001b[0m\u001b[1;33m\u001b[0m\u001b[1;33m\u001b[0m\u001b[0m\n\u001b[0;32m      5\u001b[0m \u001b[1;33m\u001b[0m\u001b[0m\n\u001b[1;32m----> 6\u001b[1;33m letalidad_mensual = letalidad_mensual[[(2016,  1),\n\u001b[0m\u001b[0;32m      7\u001b[0m             \u001b[1;33m(\u001b[0m\u001b[1;36m2017\u001b[0m\u001b[1;33m,\u001b[0m  \u001b[1;36m1\u001b[0m\u001b[1;33m)\u001b[0m\u001b[1;33m,\u001b[0m \u001b[1;33m(\u001b[0m\u001b[1;36m2017\u001b[0m\u001b[1;33m,\u001b[0m  \u001b[1;36m2\u001b[0m\u001b[1;33m)\u001b[0m\u001b[1;33m,\u001b[0m \u001b[1;33m(\u001b[0m\u001b[1;36m2017\u001b[0m\u001b[1;33m,\u001b[0m  \u001b[1;36m3\u001b[0m\u001b[1;33m)\u001b[0m\u001b[1;33m,\u001b[0m \u001b[1;33m(\u001b[0m\u001b[1;36m2017\u001b[0m\u001b[1;33m,\u001b[0m  \u001b[1;36m4\u001b[0m\u001b[1;33m)\u001b[0m\u001b[1;33m,\u001b[0m \u001b[1;33m(\u001b[0m\u001b[1;36m2017\u001b[0m\u001b[1;33m,\u001b[0m  \u001b[1;36m5\u001b[0m\u001b[1;33m)\u001b[0m\u001b[1;33m,\u001b[0m \u001b[1;33m(\u001b[0m\u001b[1;36m2017\u001b[0m\u001b[1;33m,\u001b[0m  \u001b[1;36m6\u001b[0m\u001b[1;33m)\u001b[0m\u001b[1;33m,\u001b[0m \u001b[1;33m(\u001b[0m\u001b[1;36m2017\u001b[0m\u001b[1;33m,\u001b[0m  \u001b[1;36m7\u001b[0m\u001b[1;33m)\u001b[0m\u001b[1;33m,\u001b[0m \u001b[1;33m(\u001b[0m\u001b[1;36m2017\u001b[0m\u001b[1;33m,\u001b[0m  \u001b[1;36m8\u001b[0m\u001b[1;33m)\u001b[0m\u001b[1;33m,\u001b[0m \u001b[1;33m(\u001b[0m\u001b[1;36m2017\u001b[0m\u001b[1;33m,\u001b[0m  \u001b[1;36m9\u001b[0m\u001b[1;33m)\u001b[0m\u001b[1;33m,\u001b[0m\u001b[1;33m\u001b[0m\u001b[1;33m\u001b[0m\u001b[0m\n\u001b[0;32m      8\u001b[0m             \u001b[1;33m(\u001b[0m\u001b[1;36m2017\u001b[0m\u001b[1;33m,\u001b[0m \u001b[1;36m10\u001b[0m\u001b[1;33m)\u001b[0m\u001b[1;33m,\u001b[0m \u001b[1;33m(\u001b[0m\u001b[1;36m2017\u001b[0m\u001b[1;33m,\u001b[0m \u001b[1;36m11\u001b[0m\u001b[1;33m)\u001b[0m\u001b[1;33m,\u001b[0m \u001b[1;33m(\u001b[0m\u001b[1;36m2017\u001b[0m\u001b[1;33m,\u001b[0m \u001b[1;36m12\u001b[0m\u001b[1;33m)\u001b[0m\u001b[1;33m,\u001b[0m \u001b[1;33m(\u001b[0m\u001b[1;36m2018\u001b[0m\u001b[1;33m,\u001b[0m  \u001b[1;36m1\u001b[0m\u001b[1;33m)\u001b[0m\u001b[1;33m,\u001b[0m \u001b[1;33m(\u001b[0m\u001b[1;36m2018\u001b[0m\u001b[1;33m,\u001b[0m  \u001b[1;36m2\u001b[0m\u001b[1;33m)\u001b[0m\u001b[1;33m,\u001b[0m \u001b[1;33m(\u001b[0m\u001b[1;36m2018\u001b[0m\u001b[1;33m,\u001b[0m  \u001b[1;36m3\u001b[0m\u001b[1;33m)\u001b[0m\u001b[1;33m,\u001b[0m \u001b[1;33m(\u001b[0m\u001b[1;36m2018\u001b[0m\u001b[1;33m,\u001b[0m  \u001b[1;36m4\u001b[0m\u001b[1;33m)\u001b[0m\u001b[1;33m,\u001b[0m \u001b[1;33m(\u001b[0m\u001b[1;36m2018\u001b[0m\u001b[1;33m,\u001b[0m  \u001b[1;36m5\u001b[0m\u001b[1;33m)\u001b[0m\u001b[1;33m,\u001b[0m \u001b[1;33m(\u001b[0m\u001b[1;36m2018\u001b[0m\u001b[1;33m,\u001b[0m  \u001b[1;36m6\u001b[0m\u001b[1;33m)\u001b[0m\u001b[1;33m,\u001b[0m\u001b[1;33m\u001b[0m\u001b[1;33m\u001b[0m\u001b[0m\n",
      "\u001b[1;32m~\\anaconda3\\lib\\site-packages\\pandas\\core\\series.py\u001b[0m in \u001b[0;36m__getitem__\u001b[1;34m(self, key)\u001b[0m\n\u001b[0;32m    908\u001b[0m             \u001b[0mkey\u001b[0m \u001b[1;33m=\u001b[0m \u001b[0mcheck_bool_indexer\u001b[0m\u001b[1;33m(\u001b[0m\u001b[0mself\u001b[0m\u001b[1;33m.\u001b[0m\u001b[0mindex\u001b[0m\u001b[1;33m,\u001b[0m \u001b[0mkey\u001b[0m\u001b[1;33m)\u001b[0m\u001b[1;33m\u001b[0m\u001b[1;33m\u001b[0m\u001b[0m\n\u001b[0;32m    909\u001b[0m \u001b[1;33m\u001b[0m\u001b[0m\n\u001b[1;32m--> 910\u001b[1;33m         \u001b[1;32mreturn\u001b[0m \u001b[0mself\u001b[0m\u001b[1;33m.\u001b[0m\u001b[0m_get_with\u001b[0m\u001b[1;33m(\u001b[0m\u001b[0mkey\u001b[0m\u001b[1;33m)\u001b[0m\u001b[1;33m\u001b[0m\u001b[1;33m\u001b[0m\u001b[0m\n\u001b[0m\u001b[0;32m    911\u001b[0m \u001b[1;33m\u001b[0m\u001b[0m\n\u001b[0;32m    912\u001b[0m     \u001b[1;32mdef\u001b[0m \u001b[0m_get_with\u001b[0m\u001b[1;33m(\u001b[0m\u001b[0mself\u001b[0m\u001b[1;33m,\u001b[0m \u001b[0mkey\u001b[0m\u001b[1;33m)\u001b[0m\u001b[1;33m:\u001b[0m\u001b[1;33m\u001b[0m\u001b[1;33m\u001b[0m\u001b[0m\n",
      "\u001b[1;32m~\\anaconda3\\lib\\site-packages\\pandas\\core\\series.py\u001b[0m in \u001b[0;36m_get_with\u001b[1;34m(self, key)\u001b[0m\n\u001b[0;32m    956\u001b[0m                 \u001b[1;32mreturn\u001b[0m \u001b[0mself\u001b[0m\u001b[1;33m.\u001b[0m\u001b[0m_get_values\u001b[0m\u001b[1;33m(\u001b[0m\u001b[0mkey\u001b[0m\u001b[1;33m)\u001b[0m\u001b[1;33m\u001b[0m\u001b[1;33m\u001b[0m\u001b[0m\n\u001b[0;32m    957\u001b[0m \u001b[1;33m\u001b[0m\u001b[0m\n\u001b[1;32m--> 958\u001b[1;33m             \u001b[1;32mreturn\u001b[0m \u001b[0mself\u001b[0m\u001b[1;33m.\u001b[0m\u001b[0mloc\u001b[0m\u001b[1;33m[\u001b[0m\u001b[0mkey\u001b[0m\u001b[1;33m]\u001b[0m\u001b[1;33m\u001b[0m\u001b[1;33m\u001b[0m\u001b[0m\n\u001b[0m\u001b[0;32m    959\u001b[0m \u001b[1;33m\u001b[0m\u001b[0m\n\u001b[0;32m    960\u001b[0m         \u001b[1;32mreturn\u001b[0m \u001b[0mself\u001b[0m\u001b[1;33m.\u001b[0m\u001b[0mreindex\u001b[0m\u001b[1;33m(\u001b[0m\u001b[0mkey\u001b[0m\u001b[1;33m)\u001b[0m\u001b[1;33m\u001b[0m\u001b[1;33m\u001b[0m\u001b[0m\n",
      "\u001b[1;32m~\\anaconda3\\lib\\site-packages\\pandas\\core\\indexing.py\u001b[0m in \u001b[0;36m__getitem__\u001b[1;34m(self, key)\u001b[0m\n\u001b[0;32m   1766\u001b[0m \u001b[1;33m\u001b[0m\u001b[0m\n\u001b[0;32m   1767\u001b[0m             \u001b[0mmaybe_callable\u001b[0m \u001b[1;33m=\u001b[0m \u001b[0mcom\u001b[0m\u001b[1;33m.\u001b[0m\u001b[0mapply_if_callable\u001b[0m\u001b[1;33m(\u001b[0m\u001b[0mkey\u001b[0m\u001b[1;33m,\u001b[0m \u001b[0mself\u001b[0m\u001b[1;33m.\u001b[0m\u001b[0mobj\u001b[0m\u001b[1;33m)\u001b[0m\u001b[1;33m\u001b[0m\u001b[1;33m\u001b[0m\u001b[0m\n\u001b[1;32m-> 1768\u001b[1;33m             \u001b[1;32mreturn\u001b[0m \u001b[0mself\u001b[0m\u001b[1;33m.\u001b[0m\u001b[0m_getitem_axis\u001b[0m\u001b[1;33m(\u001b[0m\u001b[0mmaybe_callable\u001b[0m\u001b[1;33m,\u001b[0m \u001b[0maxis\u001b[0m\u001b[1;33m=\u001b[0m\u001b[0maxis\u001b[0m\u001b[1;33m)\u001b[0m\u001b[1;33m\u001b[0m\u001b[1;33m\u001b[0m\u001b[0m\n\u001b[0m\u001b[0;32m   1769\u001b[0m \u001b[1;33m\u001b[0m\u001b[0m\n\u001b[0;32m   1770\u001b[0m     \u001b[1;32mdef\u001b[0m \u001b[0m_is_scalar_access\u001b[0m\u001b[1;33m(\u001b[0m\u001b[0mself\u001b[0m\u001b[1;33m,\u001b[0m \u001b[0mkey\u001b[0m\u001b[1;33m:\u001b[0m \u001b[0mTuple\u001b[0m\u001b[1;33m)\u001b[0m\u001b[1;33m:\u001b[0m\u001b[1;33m\u001b[0m\u001b[1;33m\u001b[0m\u001b[0m\n",
      "\u001b[1;32m~\\anaconda3\\lib\\site-packages\\pandas\\core\\indexing.py\u001b[0m in \u001b[0;36m_getitem_axis\u001b[1;34m(self, key, axis)\u001b[0m\n\u001b[0;32m   1952\u001b[0m                     \u001b[1;32mraise\u001b[0m \u001b[0mValueError\u001b[0m\u001b[1;33m(\u001b[0m\u001b[1;34m\"Cannot index with multidimensional key\"\u001b[0m\u001b[1;33m)\u001b[0m\u001b[1;33m\u001b[0m\u001b[1;33m\u001b[0m\u001b[0m\n\u001b[0;32m   1953\u001b[0m \u001b[1;33m\u001b[0m\u001b[0m\n\u001b[1;32m-> 1954\u001b[1;33m                 \u001b[1;32mreturn\u001b[0m \u001b[0mself\u001b[0m\u001b[1;33m.\u001b[0m\u001b[0m_getitem_iterable\u001b[0m\u001b[1;33m(\u001b[0m\u001b[0mkey\u001b[0m\u001b[1;33m,\u001b[0m \u001b[0maxis\u001b[0m\u001b[1;33m=\u001b[0m\u001b[0maxis\u001b[0m\u001b[1;33m)\u001b[0m\u001b[1;33m\u001b[0m\u001b[1;33m\u001b[0m\u001b[0m\n\u001b[0m\u001b[0;32m   1955\u001b[0m \u001b[1;33m\u001b[0m\u001b[0m\n\u001b[0;32m   1956\u001b[0m             \u001b[1;31m# nested tuple slicing\u001b[0m\u001b[1;33m\u001b[0m\u001b[1;33m\u001b[0m\u001b[1;33m\u001b[0m\u001b[0m\n",
      "\u001b[1;32m~\\anaconda3\\lib\\site-packages\\pandas\\core\\indexing.py\u001b[0m in \u001b[0;36m_getitem_iterable\u001b[1;34m(self, key, axis)\u001b[0m\n\u001b[0;32m   1593\u001b[0m         \u001b[1;32melse\u001b[0m\u001b[1;33m:\u001b[0m\u001b[1;33m\u001b[0m\u001b[1;33m\u001b[0m\u001b[0m\n\u001b[0;32m   1594\u001b[0m             \u001b[1;31m# A collection of keys\u001b[0m\u001b[1;33m\u001b[0m\u001b[1;33m\u001b[0m\u001b[1;33m\u001b[0m\u001b[0m\n\u001b[1;32m-> 1595\u001b[1;33m             \u001b[0mkeyarr\u001b[0m\u001b[1;33m,\u001b[0m \u001b[0mindexer\u001b[0m \u001b[1;33m=\u001b[0m \u001b[0mself\u001b[0m\u001b[1;33m.\u001b[0m\u001b[0m_get_listlike_indexer\u001b[0m\u001b[1;33m(\u001b[0m\u001b[0mkey\u001b[0m\u001b[1;33m,\u001b[0m \u001b[0maxis\u001b[0m\u001b[1;33m,\u001b[0m \u001b[0mraise_missing\u001b[0m\u001b[1;33m=\u001b[0m\u001b[1;32mFalse\u001b[0m\u001b[1;33m)\u001b[0m\u001b[1;33m\u001b[0m\u001b[1;33m\u001b[0m\u001b[0m\n\u001b[0m\u001b[0;32m   1596\u001b[0m             return self.obj._reindex_with_indexers(\n\u001b[0;32m   1597\u001b[0m                 \u001b[1;33m{\u001b[0m\u001b[0maxis\u001b[0m\u001b[1;33m:\u001b[0m \u001b[1;33m[\u001b[0m\u001b[0mkeyarr\u001b[0m\u001b[1;33m,\u001b[0m \u001b[0mindexer\u001b[0m\u001b[1;33m]\u001b[0m\u001b[1;33m}\u001b[0m\u001b[1;33m,\u001b[0m \u001b[0mcopy\u001b[0m\u001b[1;33m=\u001b[0m\u001b[1;32mTrue\u001b[0m\u001b[1;33m,\u001b[0m \u001b[0mallow_dups\u001b[0m\u001b[1;33m=\u001b[0m\u001b[1;32mTrue\u001b[0m\u001b[1;33m\u001b[0m\u001b[1;33m\u001b[0m\u001b[0m\n",
      "\u001b[1;32m~\\anaconda3\\lib\\site-packages\\pandas\\core\\indexing.py\u001b[0m in \u001b[0;36m_get_listlike_indexer\u001b[1;34m(self, key, axis, raise_missing)\u001b[0m\n\u001b[0;32m   1550\u001b[0m             \u001b[0mkeyarr\u001b[0m\u001b[1;33m,\u001b[0m \u001b[0mindexer\u001b[0m\u001b[1;33m,\u001b[0m \u001b[0mnew_indexer\u001b[0m \u001b[1;33m=\u001b[0m \u001b[0max\u001b[0m\u001b[1;33m.\u001b[0m\u001b[0m_reindex_non_unique\u001b[0m\u001b[1;33m(\u001b[0m\u001b[0mkeyarr\u001b[0m\u001b[1;33m)\u001b[0m\u001b[1;33m\u001b[0m\u001b[1;33m\u001b[0m\u001b[0m\n\u001b[0;32m   1551\u001b[0m \u001b[1;33m\u001b[0m\u001b[0m\n\u001b[1;32m-> 1552\u001b[1;33m         self._validate_read_indexer(\n\u001b[0m\u001b[0;32m   1553\u001b[0m             \u001b[0mkeyarr\u001b[0m\u001b[1;33m,\u001b[0m \u001b[0mindexer\u001b[0m\u001b[1;33m,\u001b[0m \u001b[0mo\u001b[0m\u001b[1;33m.\u001b[0m\u001b[0m_get_axis_number\u001b[0m\u001b[1;33m(\u001b[0m\u001b[0maxis\u001b[0m\u001b[1;33m)\u001b[0m\u001b[1;33m,\u001b[0m \u001b[0mraise_missing\u001b[0m\u001b[1;33m=\u001b[0m\u001b[0mraise_missing\u001b[0m\u001b[1;33m\u001b[0m\u001b[1;33m\u001b[0m\u001b[0m\n\u001b[0;32m   1554\u001b[0m         )\n",
      "\u001b[1;32m~\\anaconda3\\lib\\site-packages\\pandas\\core\\indexing.py\u001b[0m in \u001b[0;36m_validate_read_indexer\u001b[1;34m(self, key, indexer, axis, raise_missing)\u001b[0m\n\u001b[0;32m   1652\u001b[0m             \u001b[1;31m# just raising\u001b[0m\u001b[1;33m\u001b[0m\u001b[1;33m\u001b[0m\u001b[1;33m\u001b[0m\u001b[0m\n\u001b[0;32m   1653\u001b[0m             \u001b[1;32mif\u001b[0m \u001b[1;32mnot\u001b[0m \u001b[1;33m(\u001b[0m\u001b[0max\u001b[0m\u001b[1;33m.\u001b[0m\u001b[0mis_categorical\u001b[0m\u001b[1;33m(\u001b[0m\u001b[1;33m)\u001b[0m \u001b[1;32mor\u001b[0m \u001b[0max\u001b[0m\u001b[1;33m.\u001b[0m\u001b[0mis_interval\u001b[0m\u001b[1;33m(\u001b[0m\u001b[1;33m)\u001b[0m\u001b[1;33m)\u001b[0m\u001b[1;33m:\u001b[0m\u001b[1;33m\u001b[0m\u001b[1;33m\u001b[0m\u001b[0m\n\u001b[1;32m-> 1654\u001b[1;33m                 raise KeyError(\n\u001b[0m\u001b[0;32m   1655\u001b[0m                     \u001b[1;34m\"Passing list-likes to .loc or [] with any missing labels \"\u001b[0m\u001b[1;33m\u001b[0m\u001b[1;33m\u001b[0m\u001b[0m\n\u001b[0;32m   1656\u001b[0m                     \u001b[1;34m\"is no longer supported, see \"\u001b[0m\u001b[1;33m\u001b[0m\u001b[1;33m\u001b[0m\u001b[0m\n",
      "\u001b[1;31mKeyError\u001b[0m: 'Passing list-likes to .loc or [] with any missing labels is no longer supported, see https://pandas.pydata.org/pandas-docs/stable/user_guide/indexing.html#deprecate-loc-reindex-listlike'"
     ]
    }
   ],
   "source": [
    "series_muertos = accidentes[accidentes[\"incidente_c4\"].str.contains(\"cadáver\")].groupby([accidentes[\"fecha_hora_creacion\"].dt.year,\"mes\"]).count()[\"incidente_c4\"]\n",
    "series_total = accidentes.groupby([accidentes[\"fecha_hora_creacion\"].dt.year,\"mes\"]).count()[\"incidente_c4\"]\n",
    "\n",
    "letalidad_mensual = series_muertos * 100 / series_total\n",
    "\n",
    "letalidad_mensual = letalidad_mensual[[(2016,  1),\n",
    "            (2017,  1), (2017,  2), (2017,  3), (2017,  4), (2017,  5), (2017,  6), (2017,  7), (2017,  8), (2017,  9),\n",
    "            (2017, 10), (2017, 11), (2017, 12), (2018,  1), (2018,  2), (2018,  3), (2018,  4), (2018,  5), (2018,  6),\n",
    "            (2018,  7), (2018,  8), (2018,  9), (2018, 10), (2018, 11), (2018, 12), (2019,  1), (2019,  2), (2019,  3),\n",
    "            (2019,  4), (2019,  5), (2019,  6), (2019,  7), (2019,  8), (2019,  9), (2019, 10), (2019, 11), (2021,  2)]]"
   ]
  },
  {
   "cell_type": "code",
   "execution_count": 12,
   "metadata": {},
   "outputs": [
    {
     "name": "stdout",
     "output_type": "stream",
     "text": [
      "fecha_hora_creacion  mes\n",
      "2016                 1      5.555556\n",
      "2017                 1      0.376963\n",
      "                     2      0.228401\n",
      "                     3      0.323218\n",
      "                     4      0.302657\n",
      "                     5      0.263638\n",
      "                     6      0.262161\n",
      "                     7      0.281690\n",
      "                     8      0.241905\n",
      "                     9      0.201959\n",
      "                     10     0.209132\n",
      "                     11     0.174383\n",
      "                     12     0.270065\n",
      "2018                 1      0.255389\n",
      "                     2      0.249750\n",
      "                     3      0.348465\n",
      "                     4      0.177140\n",
      "                     5      0.150576\n",
      "                     6      0.227187\n",
      "                     7      0.189621\n",
      "                     8      0.161175\n",
      "                     9      0.217175\n",
      "                     10     0.334994\n",
      "                     11     0.286692\n",
      "                     12     0.251031\n",
      "2019                 1      0.253632\n",
      "                     2      0.312264\n",
      "                     3      0.320606\n",
      "                     4      0.283554\n",
      "                     5      0.299434\n",
      "                     6      0.300363\n",
      "                     7      0.290886\n",
      "                     8      0.359712\n",
      "                     9      0.301322\n",
      "                     10     0.208080\n",
      "                     11     0.327376\n",
      "2021                 2      0.506329\n",
      "Name: incidente_c4, dtype: float64\n"
     ]
    }
   ],
   "source": [
    "print(letalidad_mensual)"
   ]
  },
  {
   "cell_type": "code",
   "execution_count": 14,
   "metadata": {},
   "outputs": [
    {
     "data": {
      "text/plain": [
       "<AxesSubplot:xlabel='letalidad mensual', ylabel='porcentaje'>"
      ]
     },
     "execution_count": 14,
     "metadata": {},
     "output_type": "execute_result"
    },
    {
     "data": {
      "image/png": "[encoded data removed]",
      "text/plain": [
       "<Figure size 720x720 with 1 Axes>"
      ]
     },
     "metadata": {
      "needs_background": "light"
     },
     "output_type": "display_data"
    }
   ],
   "source": [
    "letalidad_mensual.plot(figsize=(10,10), xlabel = \"letalidad mensual\", ylabel = \"porcentaje\")"
   ]
  },
  {
   "cell_type": "markdown",
   "metadata": {},
   "source": [
    "##### Conclusión\n",
    "A través de los 3 años (2017 a 2019) se va visto una letalidad que oscila entre 0.15 % y 0.37 %. Además, los únicos datos que tenemos del 2021 son de febrero y tienen una letalidad considerablemente mayor a los tres años anteriores."
   ]
  },
  {
   "cell_type": "markdown",
   "metadata": {},
   "source": [
    "## ¿La pandemia ha influido en la ocurrencia de los incidentes?\n",
    "#### ¿Qué tan letal ha sido?"
   ]
  },
  {
   "cell_type": "markdown",
   "metadata": {},
   "source": [
    "##### Conclusión\n",
    "Dado a que se perdieron los datos de todo 2020 y primeros del 2021, no se puede responder con certeza el efecto de la pandemia sobre los incidentes."
   ]
  },
  {
   "cell_type": "markdown",
   "metadata": {},
   "source": [
    "## ¿Qué tipos de accidentes son más comunes?"
   ]
  },
  {
   "cell_type": "code",
   "execution_count": 169,
   "metadata": {},
   "outputs": [
    {
     "data": {
      "text/plain": [
       "incidente_c4\n",
       "accidente-choque sin lesionados                  227757\n",
       "accidente-choque con lesionados                   72114\n",
       "lesionado-atropellado                             36245\n",
       "accidente-motociclista                            21686\n",
       "accidente-volcadura                                4777\n",
       "accidente-persona atrapada / desbarrancada         2274\n",
       "accidente-vehiculo atrapado                         831\n",
       "accidente-otros                                     684\n",
       "cadáver-atropellado                                 582\n",
       "accidente-ciclista                                  524\n",
       "accidente-choque con prensados                      461\n",
       "cadáver-accidente automovilístico                   406\n",
       "sismo-choque sin lesionados                         256\n",
       "accidente-vehiculo desbarrancado                    214\n",
       "accidente-vehículo atrapado-varado                  168\n",
       "detención ciudadana-atropellado                     131\n",
       "sismo-choque con lesionados                          83\n",
       "detención ciudadana-accidente automovilístico        37\n",
       "accidente-ferroviario                                18\n",
       "accidente-monopatín                                  16\n",
       "mi ciudad-calle-incidente de tránsito                12\n",
       "sismo-persona atropellada                             3\n",
       "sismo-choque con prensados                            1\n",
       "Name: fecha_hora_creacion, dtype: int64"
      ]
     },
     "execution_count": 169,
     "metadata": {},
     "output_type": "execute_result"
    }
   ],
   "source": [
    "accidentes.groupby(by=\"incidente_c4\").count()[\"fecha_hora_creacion\"].sort_values(ascending=False)"
   ]
  },
  {
   "cell_type": "markdown",
   "metadata": {},
   "source": [
    "#### Conclusión\n",
    "Afortunadamente, la mayoría de los incidentes automovilísticos son choques sin lesionados"
   ]
  }
 ],
 "metadata": {
  "kernelspec": {
   "display_name": "Python 3",
   "language": "python",
   "name": "python3"
  },
  "language_info": {
   "codemirror_mode": {
    "name": "ipython",
    "version": 3
   },
   "file_extension": ".py",
   "mimetype": "text/x-python",
   "name": "python",
   "nbconvert_exporter": "python",
   "pygments_lexer": "ipython3",
   "version": "3.8.3"
  }
 },
 "nbformat": 4,
 "nbformat_minor": 4
}
