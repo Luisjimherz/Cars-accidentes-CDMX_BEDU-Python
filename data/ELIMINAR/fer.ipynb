{
 "cells": [
  {
   "cell_type": "markdown",
   "metadata": {},
   "source": [
    "# Importación de datos"
   ]
  },
  {
   "cell_type": "code",
   "execution_count": 172,
   "metadata": {},
   "outputs": [],
   "source": [
    "import pandas as pd, datetime as dt, numpy as np"
   ]
  },
  {
   "cell_type": "code",
   "execution_count": 173,
   "metadata": {},
   "outputs": [],
   "source": [
    "data = pd.read_csv(\"data/incidentes-viales-c5-limpio.csv\", sep=\"$\", index_col=0)"
   ]
  },
  {
   "cell_type": "code",
   "execution_count": 174,
   "metadata": {
    "scrolled": true
   },
   "outputs": [],
   "source": [
    "# Conversión de datos\n",
    "diccionario_de_conversion = {\n",
    "    'codigo_cierre': 'category',\n",
    "    'fecha_hora_creacion': 'datetime64[ns]',\n",
    "    'fecha_hora_cierre': 'datetime64[ns]', \n",
    "    'delegacion_inicio': 'category',\n",
    "    'incidente_c4': 'category', \n",
    "    'clas_con_f_alarma': 'category', \n",
    "    'tipo_entrada': 'category',\n",
    "    'delegacion_cierre':'category',\n",
    "    'mes':'category'\n",
    "}\n",
    "data = data.astype(diccionario_de_conversion)\n",
    "data[\"año\"] =data[\"fecha_hora_creacion\"].dt.year\n",
    "data[\"hora\"] =data[\"fecha_hora_creacion\"].dt.hour\n"
   ]
  },
  {
   "cell_type": "markdown",
   "metadata": {},
   "source": [
    "## Creación de columnas de apoyo"
   ]
  },
  {
   "cell_type": "code",
   "execution_count": 175,
   "metadata": {},
   "outputs": [],
   "source": [
    "data[\"año\"] =data[\"fecha_hora_creacion\"].dt.year\n",
    "data[\"hora\"] =data[\"fecha_hora_creacion\"].dt.hour"
   ]
  },
  {
   "cell_type": "code",
   "execution_count": 197,
   "metadata": {},
   "outputs": [],
   "source": [
    "# Creacion de columna horarios\n",
    "condiciones = [(data[\"hora\"] < 6),\n",
    "              (data[\"hora\"] >= 6) & (accidentes[\"hora\"] < 12), \n",
    "              (data[\"hora\"] >= 12) & (accidentes[\"hora\"] < 18), \n",
    "              (data[\"hora\"] >= 18)]\n",
    "valores = [\"madrugada\", \"mañana\", \"tarde\", \"noche\"]"
   ]
  },
  {
   "cell_type": "code",
   "execution_count": 198,
   "metadata": {},
   "outputs": [],
   "source": [
    "data[\"horario_accidente\"] = np.select(condiciones, valores)"
   ]
  },
  {
   "cell_type": "code",
   "execution_count": 199,
   "metadata": {},
   "outputs": [],
   "source": [
    "# Creación de columna de hora pico\n",
    "horas_pico = ((data[\"hora\"] >= 7) & (data[\"hora\"] <=9)) | ((data[\"hora\"] >= 16) & (data[\"hora\"] <= 20))\n",
    "data[\"is_pico\"] = np.where(horas_pico, True, False)"
   ]
  },
  {
   "cell_type": "code",
   "execution_count": 200,
   "metadata": {},
   "outputs": [],
   "source": [
    "data[\"dia\"] = data[\"fecha_hora_creacion\"].dt.weekday"
   ]
  },
  {
   "cell_type": "code",
   "execution_count": 221,
   "metadata": {},
   "outputs": [],
   "source": [
    "# días festivos\n",
    "festivos = [dt.datetime.strptime(\"2017-01-01\", '%Y-%m-%d'),\n",
    "           dt.datetime.strptime(\"2017-02-06\", '%Y-%m-%d'),\n",
    "           dt.datetime.strptime(\"2017-03-20\", '%Y-%m-%d'),\n",
    "           dt.datetime.strptime(\"2017-04-14\", '%Y-%m-%d'),\n",
    "           dt.datetime.strptime(\"2017-05-01\", '%Y-%m-%d'),\n",
    "           dt.datetime.strptime(\"2017-09-16\", '%Y-%m-%d'),\n",
    "           dt.datetime.strptime(\"2017-11-20\", '%Y-%m-%d'),\n",
    "           dt.datetime.strptime(\"2017-12-25\", '%Y-%m-%d'),\n",
    "           dt.datetime.strptime(\"2018-01-01\", '%Y-%m-%d'),\n",
    "           dt.datetime.strptime(\"2018-02-05\", '%Y-%m-%d'),\n",
    "           dt.datetime.strptime(\"2018-03-19\", '%Y-%m-%d'),\n",
    "           dt.datetime.strptime(\"2018-03-30\", '%Y-%m-%d'),\n",
    "           dt.datetime.strptime(\"2018-05-01\", '%Y-%m-%d'),\n",
    "           dt.datetime.strptime(\"2018-06-01\", '%Y-%m-%d'),\n",
    "           dt.datetime.strptime(\"2018-09-16\", '%Y-%m-%d'),\n",
    "           dt.datetime.strptime(\"2018-11-19\", '%Y-%m-%d'),\n",
    "           dt.datetime.strptime(\"2018-12-01\", '%Y-%m-%d'),\n",
    "           dt.datetime.strptime(\"2018-12-25\", '%Y-%m-%d'),\n",
    "           dt.datetime.strptime(\"2019-01-01\", '%Y-%m-%d'),\n",
    "           dt.datetime.strptime(\"2019-02-04\", '%Y-%m-%d'),\n",
    "           dt.datetime.strptime(\"2019-03-18\", '%Y-%m-%d'),\n",
    "           dt.datetime.strptime(\"2019-04-19\", '%Y-%m-%d'),\n",
    "           dt.datetime.strptime(\"2019-05-01\", '%Y-%m-%d'),\n",
    "           dt.datetime.strptime(\"2019-09-16\", '%Y-%m-%d'),\n",
    "           dt.datetime.strptime(\"2019-11-18\", '%Y-%m-%d'),\n",
    "           dt.datetime.strptime(\"2019-12-25\", '%Y-%m-%d'),\n",
    "           dt.datetime.strptime(\"2021-01-01\", '%Y-%m-%d'),\n",
    "           dt.datetime.strptime(\"2021-02-05\", '%Y-%m-%d'),\n",
    "           dt.datetime.strptime(\"2021-03-15\", '%Y-%m-%d'),\n",
    "           dt.datetime.strptime(\"2021-04-02\", '%Y-%m-%d'),\n",
    "           dt.datetime.strptime(\"2021-05-01\", '%Y-%m-%d'),\n",
    "           dt.datetime.strptime(\"2021-06-05\", '%Y-%m-%d'),\n",
    "           dt.datetime.strptime(\"2021-09-16\", '%Y-%m-%d'),\n",
    "           dt.datetime.strptime(\"2021-11-15\", '%Y-%m-%d'),\n",
    "           dt.datetime.strptime(\"2021-12-25\", '%Y-%m-%d'),]\n",
    "\n",
    "data[\"is_festivo\"] = np.where(data[\"fecha_hora_creacion\"].isin(festivos), True, False)"
   ]
  },
  {
   "cell_type": "code",
   "execution_count": 222,
   "metadata": {},
   "outputs": [
    {
     "data": {
      "text/html": [
       "<div>\n",
       "<style scoped>\n",
       "    .dataframe tbody tr th:only-of-type {\n",
       "        vertical-align: middle;\n",
       "    }\n",
       "\n",
       "    .dataframe tbody tr th {\n",
       "        vertical-align: top;\n",
       "    }\n",
       "\n",
       "    .dataframe thead th {\n",
       "        text-align: right;\n",
       "    }\n",
       "</style>\n",
       "<table border=\"1\" class=\"dataframe\">\n",
       "  <thead>\n",
       "    <tr style=\"text-align: right;\">\n",
       "      <th></th>\n",
       "      <th>folio</th>\n",
       "      <th>codigo_cierre</th>\n",
       "      <th>delegacion_inicio</th>\n",
       "      <th>incidente_c4</th>\n",
       "      <th>latitud</th>\n",
       "      <th>longitud</th>\n",
       "      <th>clas_con_f_alarma</th>\n",
       "      <th>tipo_entrada</th>\n",
       "      <th>delegacion_cierre</th>\n",
       "      <th>mes</th>\n",
       "      <th>fecha_hora_cierre</th>\n",
       "      <th>fecha_hora_creacion</th>\n",
       "      <th>año</th>\n",
       "      <th>hora</th>\n",
       "      <th>horario_accidente</th>\n",
       "      <th>is_pico</th>\n",
       "      <th>dia</th>\n",
       "      <th>is_festivo</th>\n",
       "    </tr>\n",
       "  </thead>\n",
       "  <tbody>\n",
       "    <tr>\n",
       "      <th>2</th>\n",
       "      <td>C5/170622/03715</td>\n",
       "      <td>(N) La unidad de atención a emergencias fue de...</td>\n",
       "      <td>VENUSTIANO CARRANZA</td>\n",
       "      <td>accidente-choque sin lesionados</td>\n",
       "      <td>19.43053</td>\n",
       "      <td>-99.05260</td>\n",
       "      <td>EMERGENCIA</td>\n",
       "      <td>LLAMADA DEL 911</td>\n",
       "      <td>VENUSTIANO CARRANZA</td>\n",
       "      <td>6</td>\n",
       "      <td>2017-06-22 16:48:07</td>\n",
       "      <td>2017-06-22 13:44:52</td>\n",
       "      <td>2017</td>\n",
       "      <td>13</td>\n",
       "      <td>tarde</td>\n",
       "      <td>False</td>\n",
       "      <td>3</td>\n",
       "      <td>False</td>\n",
       "    </tr>\n",
       "    <tr>\n",
       "      <th>5</th>\n",
       "      <td>C5/170621/07339</td>\n",
       "      <td>(A) La unidad de atención a emergencias fue de...</td>\n",
       "      <td>IZTAPALAPA</td>\n",
       "      <td>accidente-choque sin lesionados</td>\n",
       "      <td>19.38676</td>\n",
       "      <td>-99.03350</td>\n",
       "      <td>EMERGENCIA</td>\n",
       "      <td>LLAMADA DEL 911</td>\n",
       "      <td>IZTAPALAPA</td>\n",
       "      <td>6</td>\n",
       "      <td>2017-06-22 03:53:51</td>\n",
       "      <td>2017-06-21 23:29:01</td>\n",
       "      <td>2017</td>\n",
       "      <td>23</td>\n",
       "      <td>noche</td>\n",
       "      <td>False</td>\n",
       "      <td>2</td>\n",
       "      <td>False</td>\n",
       "    </tr>\n",
       "    <tr>\n",
       "      <th>8</th>\n",
       "      <td>C5/170622/01694</td>\n",
       "      <td>(N) La unidad de atención a emergencias fue de...</td>\n",
       "      <td>IZTAPALAPA</td>\n",
       "      <td>accidente-choque sin lesionados</td>\n",
       "      <td>19.35017</td>\n",
       "      <td>-99.07324</td>\n",
       "      <td>EMERGENCIA</td>\n",
       "      <td>LLAMADA DEL 911</td>\n",
       "      <td>IZTAPALAPA</td>\n",
       "      <td>6</td>\n",
       "      <td>2017-06-22 10:47:19</td>\n",
       "      <td>2017-06-22 08:51:30</td>\n",
       "      <td>2017</td>\n",
       "      <td>8</td>\n",
       "      <td>mañana</td>\n",
       "      <td>True</td>\n",
       "      <td>3</td>\n",
       "      <td>False</td>\n",
       "    </tr>\n",
       "    <tr>\n",
       "      <th>9</th>\n",
       "      <td>C5/170622/03779</td>\n",
       "      <td>(N) La unidad de atención a emergencias fue de...</td>\n",
       "      <td>CUAJIMALPA</td>\n",
       "      <td>accidente-choque sin lesionados</td>\n",
       "      <td>19.37273</td>\n",
       "      <td>-99.27753</td>\n",
       "      <td>EMERGENCIA</td>\n",
       "      <td>LLAMADA DEL 911</td>\n",
       "      <td>CUAJIMALPA</td>\n",
       "      <td>6</td>\n",
       "      <td>2017-06-22 14:17:46</td>\n",
       "      <td>2017-06-22 13:49:44</td>\n",
       "      <td>2017</td>\n",
       "      <td>13</td>\n",
       "      <td>tarde</td>\n",
       "      <td>False</td>\n",
       "      <td>3</td>\n",
       "      <td>False</td>\n",
       "    </tr>\n",
       "    <tr>\n",
       "      <th>12</th>\n",
       "      <td>C5/170622/04693</td>\n",
       "      <td>(N) La unidad de atención a emergencias fue de...</td>\n",
       "      <td>MIGUEL HIDALGO</td>\n",
       "      <td>accidente-choque sin lesionados</td>\n",
       "      <td>19.45316</td>\n",
       "      <td>-99.19868</td>\n",
       "      <td>EMERGENCIA</td>\n",
       "      <td>LLAMADA DEL 911</td>\n",
       "      <td>MIGUEL HIDALGO</td>\n",
       "      <td>6</td>\n",
       "      <td>2017-06-22 16:47:41</td>\n",
       "      <td>2017-06-22 15:48:39</td>\n",
       "      <td>2017</td>\n",
       "      <td>15</td>\n",
       "      <td>tarde</td>\n",
       "      <td>False</td>\n",
       "      <td>3</td>\n",
       "      <td>False</td>\n",
       "    </tr>\n",
       "  </tbody>\n",
       "</table>\n",
       "</div>"
      ],
      "text/plain": [
       "              folio                                      codigo_cierre  \\\n",
       "2   C5/170622/03715  (N) La unidad de atención a emergencias fue de...   \n",
       "5   C5/170621/07339  (A) La unidad de atención a emergencias fue de...   \n",
       "8   C5/170622/01694  (N) La unidad de atención a emergencias fue de...   \n",
       "9   C5/170622/03779  (N) La unidad de atención a emergencias fue de...   \n",
       "12  C5/170622/04693  (N) La unidad de atención a emergencias fue de...   \n",
       "\n",
       "      delegacion_inicio                     incidente_c4   latitud  longitud  \\\n",
       "2   VENUSTIANO CARRANZA  accidente-choque sin lesionados  19.43053 -99.05260   \n",
       "5            IZTAPALAPA  accidente-choque sin lesionados  19.38676 -99.03350   \n",
       "8            IZTAPALAPA  accidente-choque sin lesionados  19.35017 -99.07324   \n",
       "9            CUAJIMALPA  accidente-choque sin lesionados  19.37273 -99.27753   \n",
       "12       MIGUEL HIDALGO  accidente-choque sin lesionados  19.45316 -99.19868   \n",
       "\n",
       "   clas_con_f_alarma     tipo_entrada    delegacion_cierre mes  \\\n",
       "2         EMERGENCIA  LLAMADA DEL 911  VENUSTIANO CARRANZA   6   \n",
       "5         EMERGENCIA  LLAMADA DEL 911           IZTAPALAPA   6   \n",
       "8         EMERGENCIA  LLAMADA DEL 911           IZTAPALAPA   6   \n",
       "9         EMERGENCIA  LLAMADA DEL 911           CUAJIMALPA   6   \n",
       "12        EMERGENCIA  LLAMADA DEL 911       MIGUEL HIDALGO   6   \n",
       "\n",
       "     fecha_hora_cierre fecha_hora_creacion   año  hora horario_accidente  \\\n",
       "2  2017-06-22 16:48:07 2017-06-22 13:44:52  2017    13             tarde   \n",
       "5  2017-06-22 03:53:51 2017-06-21 23:29:01  2017    23             noche   \n",
       "8  2017-06-22 10:47:19 2017-06-22 08:51:30  2017     8            mañana   \n",
       "9  2017-06-22 14:17:46 2017-06-22 13:49:44  2017    13             tarde   \n",
       "12 2017-06-22 16:47:41 2017-06-22 15:48:39  2017    15             tarde   \n",
       "\n",
       "    is_pico  dia  is_festivo  \n",
       "2     False    3       False  \n",
       "5     False    2       False  \n",
       "8      True    3       False  \n",
       "9     False    3       False  \n",
       "12    False    3       False  "
      ]
     },
     "execution_count": 222,
     "metadata": {},
     "output_type": "execute_result"
    }
   ],
   "source": [
    "backup = data.copy()\n",
    "data.head()"
   ]
  },
  {
   "cell_type": "code",
   "execution_count": 202,
   "metadata": {},
   "outputs": [
    {
     "data": {
      "text/plain": [
       "Index(['folio', 'codigo_cierre', 'delegacion_inicio', 'incidente_c4',\n",
       "       'latitud', 'longitud', 'clas_con_f_alarma', 'tipo_entrada',\n",
       "       'delegacion_cierre', 'mes', 'fecha_hora_cierre', 'fecha_hora_creacion',\n",
       "       'año', 'hora', 'horario_accidente', 'is_pico', 'dia'],\n",
       "      dtype='object')"
      ]
     },
     "execution_count": 202,
     "metadata": {},
     "output_type": "execute_result"
    }
   ],
   "source": [
    "data.columns"
   ]
  },
  {
   "cell_type": "markdown",
   "metadata": {},
   "source": [
    "# Preguntas"
   ]
  },
  {
   "cell_type": "markdown",
   "metadata": {},
   "source": [
    "## 1. ¿En que épocas ocurrieron más accidentes?"
   ]
  },
  {
   "cell_type": "code",
   "execution_count": 228,
   "metadata": {},
   "outputs": [],
   "source": [
    "accidentes = data[~data[\"codigo_cierre\"].str.contains(\"F\", regex=True)]\n",
    "falsas = data[data[\"codigo_cierre\"].str.contains(\"F\", regex=True)]"
   ]
  },
  {
   "cell_type": "code",
   "execution_count": 204,
   "metadata": {},
   "outputs": [
    {
     "data": {
      "text/html": [
       "<div>\n",
       "<style scoped>\n",
       "    .dataframe tbody tr th:only-of-type {\n",
       "        vertical-align: middle;\n",
       "    }\n",
       "\n",
       "    .dataframe tbody tr th {\n",
       "        vertical-align: top;\n",
       "    }\n",
       "\n",
       "    .dataframe thead th {\n",
       "        text-align: right;\n",
       "    }\n",
       "</style>\n",
       "<table border=\"1\" class=\"dataframe\">\n",
       "  <thead>\n",
       "    <tr style=\"text-align: right;\">\n",
       "      <th></th>\n",
       "      <th>folio</th>\n",
       "      <th>codigo_cierre</th>\n",
       "      <th>delegacion_inicio</th>\n",
       "      <th>incidente_c4</th>\n",
       "      <th>latitud</th>\n",
       "      <th>longitud</th>\n",
       "      <th>clas_con_f_alarma</th>\n",
       "      <th>tipo_entrada</th>\n",
       "      <th>delegacion_cierre</th>\n",
       "      <th>mes</th>\n",
       "      <th>fecha_hora_cierre</th>\n",
       "      <th>fecha_hora_creacion</th>\n",
       "      <th>año</th>\n",
       "      <th>hora</th>\n",
       "      <th>horario_accidente</th>\n",
       "      <th>is_pico</th>\n",
       "      <th>dia</th>\n",
       "    </tr>\n",
       "  </thead>\n",
       "  <tbody>\n",
       "    <tr>\n",
       "      <th>2</th>\n",
       "      <td>C5/170622/03715</td>\n",
       "      <td>(N) La unidad de atención a emergencias fue de...</td>\n",
       "      <td>VENUSTIANO CARRANZA</td>\n",
       "      <td>accidente-choque sin lesionados</td>\n",
       "      <td>19.43053</td>\n",
       "      <td>-99.05260</td>\n",
       "      <td>EMERGENCIA</td>\n",
       "      <td>LLAMADA DEL 911</td>\n",
       "      <td>VENUSTIANO CARRANZA</td>\n",
       "      <td>6</td>\n",
       "      <td>2017-06-22 16:48:07</td>\n",
       "      <td>2017-06-22 13:44:52</td>\n",
       "      <td>2017</td>\n",
       "      <td>13</td>\n",
       "      <td>tarde</td>\n",
       "      <td>False</td>\n",
       "      <td>3</td>\n",
       "    </tr>\n",
       "    <tr>\n",
       "      <th>5</th>\n",
       "      <td>C5/170621/07339</td>\n",
       "      <td>(A) La unidad de atención a emergencias fue de...</td>\n",
       "      <td>IZTAPALAPA</td>\n",
       "      <td>accidente-choque sin lesionados</td>\n",
       "      <td>19.38676</td>\n",
       "      <td>-99.03350</td>\n",
       "      <td>EMERGENCIA</td>\n",
       "      <td>LLAMADA DEL 911</td>\n",
       "      <td>IZTAPALAPA</td>\n",
       "      <td>6</td>\n",
       "      <td>2017-06-22 03:53:51</td>\n",
       "      <td>2017-06-21 23:29:01</td>\n",
       "      <td>2017</td>\n",
       "      <td>23</td>\n",
       "      <td>noche</td>\n",
       "      <td>False</td>\n",
       "      <td>2</td>\n",
       "    </tr>\n",
       "    <tr>\n",
       "      <th>8</th>\n",
       "      <td>C5/170622/01694</td>\n",
       "      <td>(N) La unidad de atención a emergencias fue de...</td>\n",
       "      <td>IZTAPALAPA</td>\n",
       "      <td>accidente-choque sin lesionados</td>\n",
       "      <td>19.35017</td>\n",
       "      <td>-99.07324</td>\n",
       "      <td>EMERGENCIA</td>\n",
       "      <td>LLAMADA DEL 911</td>\n",
       "      <td>IZTAPALAPA</td>\n",
       "      <td>6</td>\n",
       "      <td>2017-06-22 10:47:19</td>\n",
       "      <td>2017-06-22 08:51:30</td>\n",
       "      <td>2017</td>\n",
       "      <td>8</td>\n",
       "      <td>mañana</td>\n",
       "      <td>True</td>\n",
       "      <td>3</td>\n",
       "    </tr>\n",
       "    <tr>\n",
       "      <th>9</th>\n",
       "      <td>C5/170622/03779</td>\n",
       "      <td>(N) La unidad de atención a emergencias fue de...</td>\n",
       "      <td>CUAJIMALPA</td>\n",
       "      <td>accidente-choque sin lesionados</td>\n",
       "      <td>19.37273</td>\n",
       "      <td>-99.27753</td>\n",
       "      <td>EMERGENCIA</td>\n",
       "      <td>LLAMADA DEL 911</td>\n",
       "      <td>CUAJIMALPA</td>\n",
       "      <td>6</td>\n",
       "      <td>2017-06-22 14:17:46</td>\n",
       "      <td>2017-06-22 13:49:44</td>\n",
       "      <td>2017</td>\n",
       "      <td>13</td>\n",
       "      <td>tarde</td>\n",
       "      <td>False</td>\n",
       "      <td>3</td>\n",
       "    </tr>\n",
       "    <tr>\n",
       "      <th>12</th>\n",
       "      <td>C5/170622/04693</td>\n",
       "      <td>(N) La unidad de atención a emergencias fue de...</td>\n",
       "      <td>MIGUEL HIDALGO</td>\n",
       "      <td>accidente-choque sin lesionados</td>\n",
       "      <td>19.45316</td>\n",
       "      <td>-99.19868</td>\n",
       "      <td>EMERGENCIA</td>\n",
       "      <td>LLAMADA DEL 911</td>\n",
       "      <td>MIGUEL HIDALGO</td>\n",
       "      <td>6</td>\n",
       "      <td>2017-06-22 16:47:41</td>\n",
       "      <td>2017-06-22 15:48:39</td>\n",
       "      <td>2017</td>\n",
       "      <td>15</td>\n",
       "      <td>tarde</td>\n",
       "      <td>False</td>\n",
       "      <td>3</td>\n",
       "    </tr>\n",
       "  </tbody>\n",
       "</table>\n",
       "</div>"
      ],
      "text/plain": [
       "              folio                                      codigo_cierre  \\\n",
       "2   C5/170622/03715  (N) La unidad de atención a emergencias fue de...   \n",
       "5   C5/170621/07339  (A) La unidad de atención a emergencias fue de...   \n",
       "8   C5/170622/01694  (N) La unidad de atención a emergencias fue de...   \n",
       "9   C5/170622/03779  (N) La unidad de atención a emergencias fue de...   \n",
       "12  C5/170622/04693  (N) La unidad de atención a emergencias fue de...   \n",
       "\n",
       "      delegacion_inicio                     incidente_c4   latitud  longitud  \\\n",
       "2   VENUSTIANO CARRANZA  accidente-choque sin lesionados  19.43053 -99.05260   \n",
       "5            IZTAPALAPA  accidente-choque sin lesionados  19.38676 -99.03350   \n",
       "8            IZTAPALAPA  accidente-choque sin lesionados  19.35017 -99.07324   \n",
       "9            CUAJIMALPA  accidente-choque sin lesionados  19.37273 -99.27753   \n",
       "12       MIGUEL HIDALGO  accidente-choque sin lesionados  19.45316 -99.19868   \n",
       "\n",
       "   clas_con_f_alarma     tipo_entrada    delegacion_cierre mes  \\\n",
       "2         EMERGENCIA  LLAMADA DEL 911  VENUSTIANO CARRANZA   6   \n",
       "5         EMERGENCIA  LLAMADA DEL 911           IZTAPALAPA   6   \n",
       "8         EMERGENCIA  LLAMADA DEL 911           IZTAPALAPA   6   \n",
       "9         EMERGENCIA  LLAMADA DEL 911           CUAJIMALPA   6   \n",
       "12        EMERGENCIA  LLAMADA DEL 911       MIGUEL HIDALGO   6   \n",
       "\n",
       "     fecha_hora_cierre fecha_hora_creacion   año  hora horario_accidente  \\\n",
       "2  2017-06-22 16:48:07 2017-06-22 13:44:52  2017    13             tarde   \n",
       "5  2017-06-22 03:53:51 2017-06-21 23:29:01  2017    23             noche   \n",
       "8  2017-06-22 10:47:19 2017-06-22 08:51:30  2017     8            mañana   \n",
       "9  2017-06-22 14:17:46 2017-06-22 13:49:44  2017    13             tarde   \n",
       "12 2017-06-22 16:47:41 2017-06-22 15:48:39  2017    15             tarde   \n",
       "\n",
       "    is_pico  dia  \n",
       "2     False    3  \n",
       "5     False    2  \n",
       "8      True    3  \n",
       "9     False    3  \n",
       "12    False    3  "
      ]
     },
     "execution_count": 204,
     "metadata": {},
     "output_type": "execute_result"
    }
   ],
   "source": [
    "accidentes.head()"
   ]
  },
  {
   "cell_type": "code",
   "execution_count": 205,
   "metadata": {},
   "outputs": [
    {
     "data": {
      "text/plain": [
       "<matplotlib.axes._subplots.AxesSubplot at 0x22d8a1a4760>"
      ]
     },
     "execution_count": 205,
     "metadata": {},
     "output_type": "execute_result"
    },
    {
     "data": {
      "image/png": "[encoded data removed]",
      "text/plain": [
       "<Figure size 432x288 with 1 Axes>"
      ]
     },
     "metadata": {
      "needs_background": "light"
     },
     "output_type": "display_data"
    }
   ],
   "source": [
    "accidentes.groupby(\"mes\").size().plot(kind=\"bar\")"
   ]
  },
  {
   "cell_type": "code",
   "execution_count": 237,
   "metadata": {},
   "outputs": [
    {
     "data": {
      "text/plain": [
       "<matplotlib.axes._subplots.AxesSubplot at 0x22d83c6d430>"
      ]
     },
     "execution_count": 237,
     "metadata": {},
     "output_type": "execute_result"
    },
    {
     "data": {
      "image/png": "[encoded data removed]",
      "text/plain": [
       "<Figure size 432x288 with 1 Axes>"
      ]
     },
     "metadata": {},
     "output_type": "display_data"
    }
   ],
   "source": [
    "# Por año\n",
    "accidentes.groupby(\"año\").size().sort_values(ascending=False).plot.pie(y=\" \")"
   ]
  },
  {
   "cell_type": "code",
   "execution_count": 230,
   "metadata": {},
   "outputs": [
    {
     "data": {
      "text/plain": [
       "array([<matplotlib.axes._subplots.AxesSubplot object at 0x0000022DF3872580>,\n",
       "       <matplotlib.axes._subplots.AxesSubplot object at 0x0000022D8003D640>,\n",
       "       <matplotlib.axes._subplots.AxesSubplot object at 0x0000022D93630A30>,\n",
       "       <matplotlib.axes._subplots.AxesSubplot object at 0x0000022D9363A340>,\n",
       "       <matplotlib.axes._subplots.AxesSubplot object at 0x0000022DE3025FA0>],\n",
       "      dtype=object)"
      ]
     },
     "execution_count": 230,
     "metadata": {},
     "output_type": "execute_result"
    },
    {
     "data": {
      "image/png": "[encoded data removed]",
      "text/plain": [
       "<Figure size 720x720 with 5 Axes>"
      ]
     },
     "metadata": {
      "needs_background": "light"
     },
     "output_type": "display_data"
    }
   ],
   "source": [
    "accidentes.groupby([\"año\", \"mes\"]).size().unstack(level=0).plot(kind='bar', subplots=True, figsize = (10,10))"
   ]
  },
  {
   "cell_type": "markdown",
   "metadata": {},
   "source": [
    "# 2. ¿En qué horarios ocurren más accidentes?"
   ]
  },
  {
   "cell_type": "code",
   "execution_count": 239,
   "metadata": {},
   "outputs": [
    {
     "data": {
      "text/plain": [
       "<matplotlib.axes._subplots.AxesSubplot at 0x22d8929f790>"
      ]
     },
     "execution_count": 239,
     "metadata": {},
     "output_type": "execute_result"
    },
    {
     "data": {
      "image/png": "[encoded data removed]",
      "text/plain": [
       "<Figure size 432x288 with 1 Axes>"
      ]
     },
     "metadata": {
      "needs_background": "light"
     },
     "output_type": "display_data"
    }
   ],
   "source": [
    "# Accidentes por hora\n",
    "accidentes.groupby(\"hora\").size().plot(kind=\"bar\")"
   ]
  },
  {
   "cell_type": "code",
   "execution_count": 241,
   "metadata": {},
   "outputs": [
    {
     "data": {
      "text/plain": [
       "array([<matplotlib.axes._subplots.AxesSubplot object at 0x0000022D83CAE760>,\n",
       "       <matplotlib.axes._subplots.AxesSubplot object at 0x0000022D93707400>,\n",
       "       <matplotlib.axes._subplots.AxesSubplot object at 0x0000022D8226D640>,\n",
       "       <matplotlib.axes._subplots.AxesSubplot object at 0x0000022D822927C0>,\n",
       "       <matplotlib.axes._subplots.AxesSubplot object at 0x0000022D822C2940>,\n",
       "       <matplotlib.axes._subplots.AxesSubplot object at 0x0000022D822EFAC0>,\n",
       "       <matplotlib.axes._subplots.AxesSubplot object at 0x0000022D822FBA60>],\n",
       "      dtype=object)"
      ]
     },
     "execution_count": 241,
     "metadata": {},
     "output_type": "execute_result"
    },
    {
     "data": {
      "image/png": "[encoded data removed]",
      "text/plain": [
       "<Figure size 720x720 with 7 Axes>"
      ]
     },
     "metadata": {
      "needs_background": "light"
     },
     "output_type": "display_data"
    }
   ],
   "source": [
    "accidentes.groupby([\"dia\", \"hora\"]).size().unstack(level=0).plot(kind='bar', subplots=True, figsize = (10,10))"
   ]
  },
  {
   "cell_type": "code",
   "execution_count": 210,
   "metadata": {
    "scrolled": false
   },
   "outputs": [
    {
     "data": {
      "text/plain": [
       "<matplotlib.axes._subplots.AxesSubplot at 0x22d80551250>"
      ]
     },
     "execution_count": 210,
     "metadata": {},
     "output_type": "execute_result"
    },
    {
     "data": {
      "image/png": "[encoded data removed]",
      "text/plain": [
       "<Figure size 432x288 with 1 Axes>"
      ]
     },
     "metadata": {},
     "output_type": "display_data"
    }
   ],
   "source": [
    "accidentes.groupby(\"horario_accidente\").size().plot.pie()"
   ]
  },
  {
   "cell_type": "markdown",
   "metadata": {},
   "source": [
    "Las horas pico segun [https://interactivo.eluniversal.com.mx/2017/tiempo-trafico/] son de 7:30 a 9:00 y de 16:00 a 20:00."
   ]
  },
  {
   "cell_type": "code",
   "execution_count": 211,
   "metadata": {},
   "outputs": [
    {
     "data": {
      "text/plain": [
       "<matplotlib.axes._subplots.AxesSubplot at 0x22d80595640>"
      ]
     },
     "execution_count": 211,
     "metadata": {},
     "output_type": "execute_result"
    },
    {
     "data": {
      "image/png": "[encoded data removed]",
      "text/plain": [
       "<Figure size 432x288 with 1 Axes>"
      ]
     },
     "metadata": {},
     "output_type": "display_data"
    }
   ],
   "source": [
    "accidentes.groupby(\"is_pico\").size().sort_values(ascending=False).plot.pie() "
   ]
  },
  {
   "cell_type": "code",
   "execution_count": 261,
   "metadata": {},
   "outputs": [
    {
     "data": {
      "text/plain": [
       "array([<matplotlib.axes._subplots.AxesSubplot object at 0x0000022DB7873700>,\n",
       "       <matplotlib.axes._subplots.AxesSubplot object at 0x0000022DBC7A2A30>,\n",
       "       <matplotlib.axes._subplots.AxesSubplot object at 0x0000022DBC7CD100>,\n",
       "       <matplotlib.axes._subplots.AxesSubplot object at 0x0000022DBC7F76A0>,\n",
       "       <matplotlib.axes._subplots.AxesSubplot object at 0x0000022DBC822C40>],\n",
       "      dtype=object)"
      ]
     },
     "execution_count": 261,
     "metadata": {},
     "output_type": "execute_result"
    },
    {
     "data": {
      "image/png": "[encoded data removed]",
      "text/plain": [
       "<Figure size 720x720 with 5 Axes>"
      ]
     },
     "metadata": {
      "needs_background": "light"
     },
     "output_type": "display_data"
    }
   ],
   "source": [
    "accidentes.groupby([\"año\", \"fecha_hora_creacion\"]).size().unstack(level=0).plot(kind='line', subplots=True, figsize = (10,10))"
   ]
  },
  {
   "cell_type": "code",
   "execution_count": 216,
   "metadata": {},
   "outputs": [
    {
     "data": {
      "text/plain": [
       "<matplotlib.axes._subplots.AxesSubplot at 0x22d915df5e0>"
      ]
     },
     "execution_count": 216,
     "metadata": {},
     "output_type": "execute_result"
    },
    {
     "data": {
      "image/png": "[encoded data removed]",
      "text/plain": [
       "<Figure size 432x288 with 1 Axes>"
      ]
     },
     "metadata": {},
     "output_type": "display_data"
    }
   ],
   "source": [
    "accidentes.groupby(\"dia\").size().plot.pie()"
   ]
  },
  {
   "cell_type": "code",
   "execution_count": 243,
   "metadata": {},
   "outputs": [
    {
     "data": {
      "text/plain": [
       "is_festivo\n",
       "False    364027\n",
       "dtype: int64"
      ]
     },
     "execution_count": 243,
     "metadata": {},
     "output_type": "execute_result"
    }
   ],
   "source": [
    "accidentes.groupby(\"is_festivo\").size()"
   ]
  }
 ],
 "metadata": {
  "kernelspec": {
   "display_name": "Python 3",
   "language": "python",
   "name": "python3"
  },
  "language_info": {
   "codemirror_mode": {
    "name": "ipython",
    "version": 3
   },
   "file_extension": ".py",
   "mimetype": "text/x-python",
   "name": "python",
   "nbconvert_exporter": "python",
   "pygments_lexer": "ipython3",
   "version": "3.8.3"
  }
 },
 "nbformat": 4,
 "nbformat_minor": 4
}
